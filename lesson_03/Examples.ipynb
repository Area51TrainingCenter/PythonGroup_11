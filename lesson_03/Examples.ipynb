{
 "cells": [
  {
   "cell_type": "markdown",
   "metadata": {},
   "source": [
    "# Ejemplos de Clase #"
   ]
  },
  {
   "cell_type": "markdown",
   "metadata": {},
   "source": [
    "## 1. Promedios ##\n",
    "\n",
    "Dada una lista de enteros que representan medidas de altura de plantas, el profesor de botánica Dr. Pierre Curie te pide de favor que calcules el promedio de altura de todas las plantas y además lo más importante, el promedio de las plantas con alturas distintas.\n",
    "\n",
    "### Solución ###"
   ]
  },
  {
   "cell_type": "code",
   "execution_count": 35,
   "metadata": {},
   "outputs": [
    {
     "name": "stdout",
     "output_type": "stream",
     "text": [
      "el promedio  de las alturas es : 165.39\n",
      "el promedio de alturas distintas es : 140.94\n"
     ]
    }
   ],
   "source": [
    "a = [2, 3, 5, 6, 23, 34, 44, 55, 55]\n",
    "\n",
    "#promedio_distinto = 0\n",
    "\n",
    "for i in range(len(a)):\n",
    "    if a[i] not in a[i+1:len(a)]:\n",
    "        promedio_distinto += a[i] / len(a)\n",
    "    promedio += a[i] / len(a)\n",
    "print('el promedio  de las alturas es : {0:.2f}'.format(promedio))\n",
    "print('el promedio de alturas distintas es : {0:.2f}'.format(promedio_distinto))\n",
    "    \n",
    "        \n",
    "    \n"
   ]
  },
  {
   "cell_type": "code",
   "execution_count": 20,
   "metadata": {},
   "outputs": [
    {
     "name": "stdout",
     "output_type": "stream",
     "text": [
      "ya existe\n",
      "ya existe\n"
     ]
    }
   ],
   "source": [
    "a = [2, 3, 3, 3, 5, 6, 23, 34, 44, 55]\n",
    "\n",
    "for i in range(len(a)):\n",
    "    if a[i] in a[i+1:len(a)]:\n",
    "        print('ya existe')"
   ]
  },
  {
   "cell_type": "markdown",
   "metadata": {},
   "source": [
    "## 2. Pares de sumas ##\n",
    "\n",
    "Dada una lista de números enteros y un valor dado `m`, debes encontrar todos los pares de elementos de la lista que sumen `m`.\n",
    "\n",
    "### Solución ###"
   ]
  },
  {
   "cell_type": "code",
   "execution_count": 53,
   "metadata": {},
   "outputs": [
    {
     "name": "stdout",
     "output_type": "stream",
     "text": [
      "12\n",
      "los pares que suman 12 son 1 y 11\n",
      "los pares que suman 12 son 2 y 10\n",
      "los pares que suman 12 son 4 y 8\n",
      "los pares que suman 12 son 3 y 9\n",
      "los pares que suman 12 son 5 y 7\n",
      "los pares que suman 12 son 6 y 6\n",
      "los pares que suman 12 son 7 y 5\n",
      "los pares que suman 12 son 8 y 4\n",
      "los pares que suman 12 son 9 y 3\n",
      "los pares que suman 12 son 10 y 2\n",
      "los pares que suman 12 son 11 y 1\n"
     ]
    }
   ],
   "source": [
    "a = [1, 2, 4, 3, 5, 6, 7, 8, 9, 10, 11, 13, 20, 30, 40, 50, 60, 70, 80, 90, 100]\n",
    "suma = int(input())\n",
    "\n",
    "for i in a:\n",
    "    n_faltante = suma - i\n",
    "    if n_faltante in a:\n",
    "        print('los pares que suman {0} son {1} y {2}'.format(suma, i, n_faltante)\n",
    "        \n",
    "                                           )"
   ]
  },
  {
   "cell_type": "markdown",
   "metadata": {},
   "source": []
  },
  {
   "cell_type": "markdown",
   "metadata": {},
   "source": []
  }
 ],
 "metadata": {
  "kernelspec": {
   "display_name": "Python 3",
   "language": "python",
   "name": "python3"
  },
  "language_info": {
   "codemirror_mode": {
    "name": "ipython",
    "version": 3
   },
   "file_extension": ".py",
   "mimetype": "text/x-python",
   "name": "python",
   "nbconvert_exporter": "python",
   "pygments_lexer": "ipython3",
   "version": "3.7.0"
  }
 },
 "nbformat": 4,
 "nbformat_minor": 2
}
