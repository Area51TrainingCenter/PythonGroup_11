{
 "cells": [
  {
   "cell_type": "markdown",
   "metadata": {},
   "source": [
    "# Ejercicios #"
   ]
  },
  {
   "cell_type": "markdown",
   "metadata": {},
   "source": [
    "# 1. Frecuencia ##\n",
    "\n",
    "Dada una lista de pares que representan tipos y medidas de altura de plantas, el profesor de botánica Dr. Pierre Curie te pide de favor que listes todos los tipos de plantas y la suma de alturas por cada tipo.\n",
    "\n",
    "**Ejemplo:**\n",
    "\n",
    "Entrada:\n",
    "\n",
    "    [(\"Rosa\", 25.5), (\"Violeta\", 14.2), (\"rosa\", 10.4)]\n",
    "\n",
    "Salida:\n",
    "\n",
    "    Rosa 35.9\n",
    "    Violeta 14.2"
   ]
  },
  {
   "cell_type": "code",
   "execution_count": 29,
   "metadata": {},
   "outputs": [
    {
     "name": "stdout",
     "output_type": "stream",
     "text": [
      "La suma de las alturas son\n",
      "Rosa = 127.5\n",
      "Violeta = 71.0\n",
      "rosa = 52.0\n"
     ]
    }
   ],
   "source": [
    "lista = [(\"Rosa\", 25.5), (\"Violeta\", 14.2), (\"rosa\", 10.4)]\n",
    "lista = lista * 5\n",
    "dic = {}\n",
    "for i in lista:\n",
    "    if i[0] not in dic :\n",
    "        dic[i[0]] = i[1]\n",
    "    else:\n",
    "         dic[i[0]] = dic.get(i[0]) + i[1]\n",
    "\n",
    "print(\"La suma de las alturas son\")\n",
    "for key, value in dic.items():\n",
    "    print(\"{0} = {1}\".format(key,value))\n"
   ]
  },
  {
   "cell_type": "markdown",
   "metadata": {},
   "source": [
    "2. Cuenta de visitas a subdominios\n",
    "\n",
    "Un dominio web como \"group11.area51.com\" consiste de varios subdominios. En el nivel más alto, tenemos \"com\", en el siguiente nivel tenemos \"area51.com\", y en el nivel más bajo, \"group11.area51.com\". Cuando visitamos un dominio como \"group11.area51.com\", también visitamos los dominios padres \"area51.com\" y \"com\" implicitamente.\n",
    "\n",
    "Bien, llamamos un \"cuenta-visita dominio\" a un valor (representando el número de visitas que un dominio ha recibido), seguido por una dirección web. Un ejemplo podría ser \"9001 group11.area51.com\".\n",
    "\n",
    "Nos dan una lista de \"cuenta-visita dominio\". Nos gustaría imprimir los \"cuenta-visita dominio\", (en el mismo formato que la entrada), que explicitamente cuente el número de visitas a cada subdominio.\n",
    "\n",
    "**Ejemplo:**\n",
    "\n",
    "Entrada:\n",
    "\n",
    "    [\"9001 group11.area51.com\", \"10000 area51.com\"]\n",
    "\n",
    "Salida:\n",
    "\n",
    "    [\"9001 group11.area51.com\", \"19001 area51.com\", \"19001 com\"]"
   ]
  },
  {
   "cell_type": "code",
   "execution_count": 4,
   "metadata": {},
   "outputs": [
    {
     "name": "stdout",
     "output_type": "stream",
     "text": [
      "{'com': 104501, 'area51.com': 19001, 'group11.area51.com': '9001', 'web2.com': '85500'}\n"
     ]
    }
   ],
   "source": [
    "lista = [\"9001 group11.area51.com\", \"10000 area51.com\", \"85500 web2.com\"]\n",
    "dict_lista = {}\n",
    "for i in lista:\n",
    "    contador, url = i.split(' ', 1)\n",
    "    count = len(url.split('.'))\n",
    "    for j in range(0, count):\n",
    "        sub_url = url.split('.',count - j -1)[-1]\n",
    "        if sub_url in dict_lista.keys():\n",
    "            dict_lista[sub_url] = int(dict_lista[sub_url]) + int(contador)\n",
    "        else:\n",
    "            dict_lista[sub_url] = contador\n",
    "\n",
    "print(dict_lista)\n",
    "     "
   ]
  },
  {
   "cell_type": "code",
   "execution_count": 35,
   "metadata": {},
   "outputs": [
    {
     "ename": "SyntaxError",
     "evalue": "invalid syntax (<ipython-input-35-26a334de646f>, line 13)",
     "output_type": "error",
     "traceback": [
      "\u001b[0;36m  File \u001b[0;32m\"<ipython-input-35-26a334de646f>\"\u001b[0;36m, line \u001b[0;32m13\u001b[0m\n\u001b[0;31m    print(list(dict_lista.values()).sort(lambda k : for k in range(-1) ) )\u001b[0m\n\u001b[0m                                                      ^\u001b[0m\n\u001b[0;31mSyntaxError\u001b[0m\u001b[0;31m:\u001b[0m invalid syntax\n"
     ]
    }
   ],
   "source": [
    "lista = [\"9001 group11.area51.com\", \"10000 area51.com\", \"85500 web2.com\"]\n",
    "dict_lista = {}\n",
    "for i in lista:\n",
    "    contador, url = i.split(' ', 1)\n",
    "    count = len(url.split('.'))\n",
    "    for j in range(count, 0, -1):\n",
    "        sub_url = url.split('.', j-1)[-1]\n",
    "        if sub_url in dict_lista.keys():\n",
    "            dict_lista[sub_url] = int(dict_lista[sub_url]) + int(contador)\n",
    "        else:\n",
    "            dict_lista[sub_url] = contador\n",
    "\n",
    "print(list(dict_lista.values()).sort(lambda k : for k in range(-1) ) )"
   ]
  },
  {
   "cell_type": "markdown",
   "metadata": {},
   "source": [
    "## 3. Piedras y joyas ##\n",
    "\n",
    "Dada una cadena `J` representando los tipos de piedras que son joyas, y `P` representando las piedras que tienes. Cada caracter en `P` es un tipo de piedra que tienes. Quieres conocer cuantas de tus piedras son también joyas.\n",
    "\n",
    "Las letras en `J` siempre serán distintas, y todos los caracteres `J` y `P` son letras. Las letras son *case sensitive*, es decir \"a\" es condiderada un distinto tipo de piedra que \"A\".\n",
    "\n",
    "**Ejemplo:**\n",
    "\n",
    ">Entrada: P = \"aA\", J = \"aAAbbbb\"\n",
    ">\n",
    ">Salida: 3\n"
   ]
  },
  {
   "cell_type": "code",
   "execution_count": 15,
   "metadata": {},
   "outputs": [
    {
     "name": "stdout",
     "output_type": "stream",
     "text": [
      "asd\n",
      "asssdddffff\n",
      "Tiene 7  joyas entre tus piedras\n",
      "d s a\n",
      "['a', 's', 's', 's', 'd', 'd', 'd', 'f', 'f', 'f', 'f']\n"
     ]
    }
   ],
   "source": [
    "Joyas = set(str(input()))\n",
    "Piedras = list(str(input()))\n",
    "count = 0\n",
    "for i in Piedras:\n",
    "    if i in Joyas:\n",
    "        count = count + 1\n",
    "print(\"Tiene {0}  joyas entre tus piedras\".format(count))\n",
    "        \n",
    "\n",
    "print(\" \".join(Joyas))\n",
    "print(Piedras)\n",
    "        "
   ]
  },
  {
   "cell_type": "code",
   "execution_count": 33,
   "metadata": {},
   "outputs": [
    {
     "name": "stdout",
     "output_type": "stream",
     "text": [
      "aAAass\n",
      "aAAjjjjj\n",
      "s\n",
      "0\n",
      "a\n",
      "1\n",
      "A\n",
      "2\n",
      "Tiene 3  joyas entre tus piedras\n",
      "s a A\n",
      "['a', 'A', 'A', 'j', 'j', 'j', 'j', 'j']\n"
     ]
    }
   ],
   "source": [
    "Joyas = set(str(input()))\n",
    "Piedras = list(str(input()))\n",
    "_count = 0\n",
    "for i in Joyas:\n",
    "    _count += Piedras.count(i)\n",
    "print(\"Tiene {0}  joya$ entre tus piedras\".format(_count))\n",
    "        \n",
    "\n",
    "print(\" \".join(Joyas))\n",
    "print(Piedras)"
   ]
  },
  {
   "cell_type": "markdown",
   "metadata": {},
   "source": [
    "## 4. Contiene duplicados ##\n",
    "\n",
    "Dada una lista de enteros, determinar si la lista contiene algún elemento duplicado. Tu solución debe retornar `True` si algún valor aparece al menos dos veces en la lista, y `False` en caso contrario.\n",
    "\n",
    "**Ejemplo:**\n",
    "\n",
    "> Entrada: [1,2,3,1]\n",
    ">\n",
    "> Salida: True"
   ]
  },
  {
   "cell_type": "code",
   "execution_count": 27,
   "metadata": {},
   "outputs": [
    {
     "name": "stdout",
     "output_type": "stream",
     "text": [
      "[22, 23, 21, 20, 1, 2, 4, 12]\n",
      "False\n"
     ]
    }
   ],
   "source": [
    "#lista = str(input()).split()\n",
    "lista = [22, 23, 21, 20, 1, 2, 4, 12]\n",
    "print(lista)\n",
    "resp = False\n",
    "for i in lista:\n",
    "    lista.remove(i)\n",
    "    if i in lista:\n",
    "            resp = True\n",
    "print(resp)\n",
    "\n"
   ]
  },
  {
   "cell_type": "code",
   "execution_count": 32,
   "metadata": {},
   "outputs": [
    {
     "name": "stdout",
     "output_type": "stream",
     "text": [
      "True\n",
      "[22, 21, 20, 1, 2, 4, 12]\n"
     ]
    }
   ],
   "source": [
    "lista = [22, 22, 21, 20, 1, 2, 4, 12]\n",
    "lista2 = []\n",
    "resp = False\n",
    "for i in lista:\n",
    "    if i in lista2:\n",
    "            resp = True\n",
    "    else:\n",
    "        lista2.append(i)\n",
    "print(resp)\n",
    "print(lista2)"
   ]
  },
  {
   "cell_type": "code",
   "execution_count": 27,
   "metadata": {},
   "outputs": [
    {
     "name": "stdout",
     "output_type": "stream",
     "text": [
      "False\n"
     ]
    }
   ],
   "source": [
    "lista = [22, 23, 21, 20, 1, 2, 4, 12]\n",
    "resp = False\n",
    "for i in lista:\n",
    "    if lista.count(i) > 1:\n",
    "            resp = True  \n",
    "print(resp)\n"
   ]
  },
  {
   "cell_type": "code",
   "execution_count": null,
   "metadata": {},
   "outputs": [],
   "source": []
  }
 ],
 "metadata": {
  "kernelspec": {
   "display_name": "Python 3",
   "language": "python",
   "name": "python3"
  },
  "language_info": {
   "codemirror_mode": {
    "name": "ipython",
    "version": 3
   },
   "file_extension": ".py",
   "mimetype": "text/x-python",
   "name": "python",
   "nbconvert_exporter": "python",
   "pygments_lexer": "ipython3",
   "version": "3.7.0"
  }
 },
 "nbformat": 4,
 "nbformat_minor": 2
}
