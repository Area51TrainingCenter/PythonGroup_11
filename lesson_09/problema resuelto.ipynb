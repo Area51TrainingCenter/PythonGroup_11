{
 "cells": [
  {
   "cell_type": "code",
   "execution_count": null,
   "metadata": {},
   "outputs": [],
   "source": [
    "import requests\n",
    "import re\n",
    "\n",
    "url = 'http://www.gutenberg.org/files/2638/2638-0.txt'\n",
    "url_request = requests.get(url).text\n",
    "start = re.search(r'\\*\\*\\* START OF THIS PROJECT GUTENBERG EBOOK THE IDIOT \\*\\*\\*', url_request).end()\n",
    "end = re.search(r'II\\.', url_request).start()\n",
    "text_part = url_request[start:end]\n",
    "\n",
    "\n",
    "# 1\n",
    "patron_text = re.compile(r'[^a-z0-9.]')\n",
    "patron = patron_text.sub(' ',text_part)\n",
    "print(patron)\n",
    "\n",
    "\n",
    "# 2\n",
    "patron_the = re.compile(r'\\bthe\\b')\n",
    "patron_t = len(patron_the.findall(text_part))\n",
    "print(patron_t)\n",
    "\n",
    "# 3\n",
    "patron_i = re.compile(r'\\bi\\b',flags=re.IGNORECASE)\n",
    "new_text = patron_i.sub('l',text_part)\n",
    "print(new_text)\n",
    "\n",
    "# 4\n",
    "patron_comillas = re.compile(r'[\\“\\”]')\n",
    "contar = len(patron_comillas.findall(text_part))\n",
    "print(contar)\n",
    "\n",
    "# 5\n",
    "patron_comillas = re.compile(r'\\w+--\\w+')\n",
    "patron_co = patron_comillas.findall(text_part)\n",
    "print(patron_co)\n",
    "\n"
   ]
  }
 ],
 "metadata": {
  "kernelspec": {
   "display_name": "Python 3",
   "language": "python",
   "name": "python3"
  },
  "language_info": {
   "codemirror_mode": {
    "name": "ipython",
    "version": 3
   },
   "file_extension": ".py",
   "mimetype": "text/x-python",
   "name": "python",
   "nbconvert_exporter": "python",
   "pygments_lexer": "ipython3",
   "version": "3.6.4"
  }
 },
 "nbformat": 4,
 "nbformat_minor": 2
}
