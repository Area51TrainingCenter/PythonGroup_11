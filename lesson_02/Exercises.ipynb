{
 "cells": [
  {
   "cell_type": "markdown",
   "metadata": {},
   "source": [
    "# Ejercicios #"
   ]
  },
  {
   "cell_type": "markdown",
   "metadata": {},
   "source": [
    "## 1. Ordenar ##\n",
    "\n",
    "Dada una lista de números enteros, tienes la tarea de ordenarla de menor a mayor."
   ]
  },
  {
   "cell_type": "code",
   "execution_count": 4,
   "metadata": {},
   "outputs": [
    {
     "name": "stdout",
     "output_type": "stream",
     "text": [
      "[1, 2, 3, 4, 8, 700, 986]\n"
     ]
    }
   ],
   "source": [
    "l1 = [700,2,4,8,3,1,986]\n",
    "l1.sort()\n",
    "print(l1)"
   ]
  },
  {
   "cell_type": "markdown",
   "metadata": {},
   "source": [
    "## 2. Segundo mayor puntaje  ##\n",
    "\n",
    "Dada una lista de números enteros que representan los puntajes en un examen, debes devolver el segundo mayor puntaje, pueden haber puntajes iguales."
   ]
  },
  {
   "cell_type": "code",
   "execution_count": 5,
   "metadata": {},
   "outputs": [
    {
     "name": "stdout",
     "output_type": "stream",
     "text": [
      "4\n",
      "[10, 11, 12, 15]\n",
      "12\n"
     ]
    }
   ],
   "source": [
    "li2 = [10,11,12,12,12,11,15]\n",
    "li2.sort()\n",
    "li3 = []\n",
    "for e in li2 :\n",
    "    if e not in li3:\n",
    "        li3.append(e)\n",
    "n = len(li3)\n",
    "print(n)\n",
    "print(li3)       \n",
    "print(li3[n-2])"
   ]
  },
  {
   "cell_type": "markdown",
   "metadata": {},
   "source": [
    "## 3. Intercambia mayúsculas y minúsculas ##\n",
    "\n",
    "Lee una cadena y convierte las minúsculas en mayúsculas y viceversa. Imprime la respuesta.\n",
    "\n",
    "**Ejemplo:**\n",
    "\n",
    "> Www.Area51TrainingCenter.com → wWW.aREA51tRAININGcENTER.COM"
   ]
  },
  {
   "cell_type": "code",
   "execution_count": 7,
   "metadata": {},
   "outputs": [
    {
     "data": {
      "text/plain": [
       "'wWW.aREA51tRAININGcENTER.COM'"
      ]
     },
     "execution_count": 7,
     "metadata": {},
     "output_type": "execute_result"
    }
   ],
   "source": [
    "_string = 'Www.Area51TrainingCenter.com'\n",
    "_string.swapcase()\n"
   ]
  },
  {
   "cell_type": "code",
   "execution_count": 8,
   "metadata": {},
   "outputs": [
    {
     "name": "stdout",
     "output_type": "stream",
     "text": [
      "Www.Area51TrainingCenter.com peee\n",
      "wWW.aREA51tRAININGcENTER.COM PEEE\n"
     ]
    }
   ],
   "source": [
    "w = \"Www.Area51TrainingCenter.com peee\"\n",
    "print(w)\n",
    "vacia = ''\n",
    "for i in range(len(w)) :\n",
    "    if w[i] == w[i].lower() :\n",
    "        vacia += w[i].upper()\n",
    "    elif w[i] == w[i].upper() :\n",
    "        \n",
    "        vacia += w[i].lower()\n",
    "        \n",
    "print(vacia)"
   ]
  },
  {
   "cell_type": "markdown",
   "metadata": {},
   "source": [
    "## 4. Ancho de Cadena ##\n",
    "\n",
    "Dada una cadena y un ancho. Tienes la tarea de convertir la cadena en un texto que tenga el ancho dado. Garantizamos que este ancho será siempre positivo y menor al tamaño de la cadena. \n",
    "\n",
    "**Ejemplo de entrada**\n",
    "\n",
    "    ABCDEFGHIJKLIMNOQRSTUVWXYZ\n",
    "\n",
    "    4\n",
    "\n",
    "**Ejemplo de salida**\n",
    "\n",
    "    ABCD\n",
    "    EFGH\n",
    "    IJKL\n",
    "    IMNO\n",
    "    QRST\n",
    "    UVWX\n",
    "    YZ"
   ]
  },
  {
   "cell_type": "code",
   "execution_count": 35,
   "metadata": {},
   "outputs": [
    {
     "name": "stdout",
     "output_type": "stream",
     "text": [
      "4\n",
      "ABCD\n",
      "EFGH\n",
      "IJKL\n",
      "IMNO\n",
      "QRST\n",
      "UVWX\n"
     ]
    }
   ],
   "source": [
    "ancho = int(input())\n",
    "cad = 'ABCDEFGHIJKLIMNOQRSTUVWXYZ'\n",
    "\n",
    "for i in range(1,len(cad)+1):\n",
    "    if ancho > 0 and ancho < len(cad):\n",
    "        if i % ancho == 0 :          \n",
    "            print(cad[i-ancho:i])\n",
    "            \n",
    "            \n",
    "            \n",
    "    \n",
    "\n",
    "    "
   ]
  },
  {
   "cell_type": "code",
   "execution_count": null,
   "metadata": {},
   "outputs": [],
   "source": []
  }
 ],
 "metadata": {
  "kernelspec": {
   "display_name": "Python 3",
   "language": "python",
   "name": "python3"
  },
  "language_info": {
   "codemirror_mode": {
    "name": "ipython",
    "version": 3
   },
   "file_extension": ".py",
   "mimetype": "text/x-python",
   "name": "python",
   "nbconvert_exporter": "python",
   "pygments_lexer": "ipython3",
   "version": "3.6.6"
  }
 },
 "nbformat": 4,
 "nbformat_minor": 2
}
