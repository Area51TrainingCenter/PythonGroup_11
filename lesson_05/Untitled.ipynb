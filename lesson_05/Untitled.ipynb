{
 "cells": [
  {
   "cell_type": "code",
   "execution_count": 1,
   "metadata": {},
   "outputs": [
    {
     "name": "stdout",
     "output_type": "stream",
     "text": [
      "1\n",
      "3\n",
      "4\n",
      "5\n"
     ]
    }
   ],
   "source": [
    "GIT REMOTE ADD <ORIGIN-FORK(cualquier_nombre)> <url del principal area51>\n",
    "git pull origin-fork master\n",
    "probar si en vez de pull usamos primero fetch y luego merge\n",
    "##  para actualizar desde la principal\n",
    "## entrar a hackerrank.com\n",
    "############# TAREA  ---- https://www.hackerrank.com/challenges/zipped/problem\n",
    "\n",
    " \n",
    "def function (*args):\n",
    "    for i in args:\n",
    "        print(i)\n",
    "function(1, 3, 4, 5)"
   ]
  },
  {
   "cell_type": "markdown",
   "metadata": {},
   "source": [
    "PROGRAMACIONM FUNCIONAL \n",
    "\n",
    "MAP\n",
    "FILTER\n",
    "ZIP\n",
    "REDUCE\n",
    "\n",
    "funciones puras, no modifican nada fuera de la funcion , solo trabajan con los argumentos  que ingresan y  retornan un resultado , sin modificar nada fuera"
   ]
  },
  {
   "cell_type": "code",
   "execution_count": null,
   "metadata": {},
   "outputs": [],
   "source": []
  },
  {
   "cell_type": "code",
   "execution_count": 6,
   "metadata": {},
   "outputs": [
    {
     "name": "stdout",
     "output_type": "stream",
     "text": [
      "<class 'dict'>\n",
      "uno 1\n",
      "dos 3\n",
      "tres 4\n",
      "cuatro 5\n"
     ]
    }
   ],
   "source": [
    "def function (**kwargs):\n",
    "    print(type(kwargs))\n",
    "    for k,v in kwargs.items():\n",
    "        print(k, v)\n",
    "d = {'uno' : 1,'dos' : 3,'tres' : 4,'cuatro' : 5}\n",
    "function(**d)"
   ]
  },
  {
   "cell_type": "code",
   "execution_count": 2,
   "metadata": {},
   "outputs": [
    {
     "name": "stdout",
     "output_type": "stream",
     "text": [
      "1 3 5 6 7\n",
      "1\n",
      "3\n",
      "5\n",
      "6\n",
      "7\n"
     ]
    }
   ],
   "source": [
    "def function (*args):\n",
    "    for i in args:\n",
    "        print(i)\n",
    "l = [1, 3, 5, 6, 7]\n",
    "print(*l)       # *l desempaqueta  una lista , dandonos los elementos separados , no como lista\n",
    "function(*l)"
   ]
  },
  {
   "cell_type": "code",
   "execution_count": 8,
   "metadata": {},
   "outputs": [
    {
     "data": {
      "text/plain": [
       "36"
      ]
     },
     "execution_count": 8,
     "metadata": {},
     "output_type": "execute_result"
    }
   ],
   "source": [
    "def f (x):\n",
    "    return x + 3\n",
    "    print(x + 3)\n",
    "\n",
    "def g (fu, x):\n",
    "    return fu(x) * fu(x)\n",
    "\n",
    "g(f, 3)"
   ]
  },
  {
   "cell_type": "code",
   "execution_count": 11,
   "metadata": {},
   "outputs": [
    {
     "name": "stdout",
     "output_type": "stream",
     "text": [
      "12\n",
      "0\n",
      "2\n",
      "4\n",
      "6\n",
      "8\n",
      "10\n"
     ]
    }
   ],
   "source": [
    "a = int(input())\n",
    "for i in range(a // 2):\n",
    "    print(i*2)"
   ]
  },
  {
   "cell_type": "code",
   "execution_count": 27,
   "metadata": {},
   "outputs": [
    {
     "name": "stdout",
     "output_type": "stream",
     "text": [
      "23\n",
      "[0, 2, 4, 6, 8, 10, 12, 14, 16, 18, 20]\n",
      "[1, 3, 5, 7, 9, 11, 13, 15, 17, 19, 21]\n",
      "[1, 3, 5, 7, 9, 11, 13, 15, 17, 19, 21, 23]\n"
     ]
    },
    {
     "data": {
      "text/plain": [
       "[0, 2, 4, 6]"
      ]
     },
     "execution_count": 27,
     "metadata": {},
     "output_type": "execute_result"
    }
   ],
   "source": [
    "a = int(input())\n",
    "print([i * 2 for i in range(a // 2)])\n",
    "print([(i * 2) + 1 for i in range(a // 2)])\n",
    "print([(i * 2) + 1 for i in range((a + 1) // 2)]) #range no toma el numero limite , +1 para que lo coja \n",
    "\n",
    "[(i + j) for i in range(4) for j in range(5) if i == j]"
   ]
  },
  {
   "cell_type": "code",
   "execution_count": 28,
   "metadata": {},
   "outputs": [
    {
     "data": {
      "text/plain": [
       "9"
      ]
     },
     "execution_count": 28,
     "metadata": {},
     "output_type": "execute_result"
    }
   ],
   "source": [
    "#Funciones LAMBDA\n",
    "\n",
    "suma = lambda x, y: x + y\n",
    "suma(3, 6)"
   ]
  },
  {
   "cell_type": "code",
   "execution_count": 32,
   "metadata": {},
   "outputs": [
    {
     "name": "stdout",
     "output_type": "stream",
     "text": [
      "3\n",
      "4\n",
      "5\n",
      "6\n",
      "7\n"
     ]
    },
    {
     "data": {
      "text/plain": [
       "[1, 3, 5, 6, 7, 4, 4, 4, 4, 5, 4, 4, 4, 4, 4, 3, 4, 5, 6, 7]"
      ]
     },
     "execution_count": 32,
     "metadata": {},
     "output_type": "execute_result"
    }
   ],
   "source": [
    "#a = int(input())\n",
    "for i in range(5):\n",
    "    l.append(int(input()))\n",
    "l"
   ]
  },
  {
   "cell_type": "code",
   "execution_count": 39,
   "metadata": {},
   "outputs": [
    {
     "name": "stdout",
     "output_type": "stream",
     "text": [
      "234\n",
      "[234]\n",
      "234,234,234,234  34\n"
     ]
    },
    {
     "data": {
      "text/plain": [
       "['234', '234', '234', '234  34']"
      ]
     },
     "execution_count": 39,
     "metadata": {},
     "output_type": "execute_result"
    }
   ],
   "source": [
    "# MAP\n",
    "print(list(map(int, input().split())))\n",
    "print(list(map(str, input().split(''))))\n",
    "list(map(str, input().split(',')))"
   ]
  },
  {
   "cell_type": "markdown",
   "metadata": {},
   "source": []
  },
  {
   "cell_type": "code",
   "execution_count": 1,
   "metadata": {},
   "outputs": [
    {
     "name": "stdout",
     "output_type": "stream",
     "text": [
      "1 2 3 4 5\n",
      "[1, 2, 3, 4, 5]\n",
      "[1, 4, 9, 16, 25]\n",
      "[2, 6, 12, 20, 30]\n"
     ]
    },
    {
     "data": {
      "text/plain": [
       "[4, 12, 24, 40, 60]"
      ]
     },
     "execution_count": 1,
     "metadata": {},
     "output_type": "execute_result"
    }
   ],
   "source": [
    "l = list(map(int, input().split()))\n",
    "print(l)\n",
    "lc = list(map(lambda x:    x ** 2     , l))\n",
    "print(lc)\n",
    "l2 = list(map(lambda x, y:    x + y      ,l ,lc))\n",
    "print(l2)\n",
    "list(map(lambda x, y, z:      x + y + z     , l, lc, l2))\n",
    "\n",
    "#LOS ESPACIOS SON SOLO PARA QUE SE APRECIEN MEJOR"
   ]
  },
  {
   "cell_type": "code",
   "execution_count": 3,
   "metadata": {},
   "outputs": [
    {
     "name": "stdout",
     "output_type": "stream",
     "text": [
      "1 2 3 4\n",
      "[1, 2, 3, 4]\n",
      "['a']\n"
     ]
    }
   ],
   "source": [
    "### FILTER\n",
    "\n",
    "l = list(map(int, input().split()))\n",
    "list(filter(lambda x:    x % 2 == 0   , l))\n",
    "ll = list(filter(lambda x:    x  == 'a'   , 'jasjqjqweokj'))\n",
    "list(filter(lambda x:    x % 2 == 0   , l))\n",
    "print(l)\n",
    "print(ll)"
   ]
  },
  {
   "cell_type": "code",
   "execution_count": 8,
   "metadata": {},
   "outputs": [
    {
     "name": "stdout",
     "output_type": "stream",
     "text": [
      "1 2 3 4\n",
      "[1, 2, 3, 4]\n",
      "[1, 2, 3, 4, 1, 2, 3, 4]\n",
      "[1, 2, 3, 4]\n",
      "[3, 6, 9, 12]\n"
     ]
    },
    {
     "data": {
      "text/plain": [
       "<zip at 0x104c1e7c8>"
      ]
     },
     "execution_count": 8,
     "metadata": {},
     "output_type": "execute_result"
    }
   ],
   "source": [
    "### ZIP\n",
    "\n",
    "l = list(map(int, input().split()))\n",
    "l2 = 2 * l\n",
    "l3 = l\n",
    "\n",
    "print(l)\n",
    "print(l2)\n",
    "print(l3)\n",
    "\n",
    "print(list(map(lambda l: sum(l), zip(l, l2, l3))))\n",
    "\n",
    "zip(l, l2, l3)"
   ]
  },
  {
   "cell_type": "code",
   "execution_count": 18,
   "metadata": {},
   "outputs": [
    {
     "name": "stdout",
     "output_type": "stream",
     "text": [
      "1 2 3 4\n",
      "[1, 2, 3, 4]\n"
     ]
    },
    {
     "ename": "TypeError",
     "evalue": "'int' object is not iterable",
     "output_type": "error",
     "traceback": [
      "\u001b[0;31m---------------------------------------------------------------------------\u001b[0m",
      "\u001b[0;31mTypeError\u001b[0m                                 Traceback (most recent call last)",
      "\u001b[0;32m<ipython-input-18-21a1f3028799>\u001b[0m in \u001b[0;36m<module>\u001b[0;34m()\u001b[0m\n\u001b[1;32m      3\u001b[0m \u001b[0ml\u001b[0m \u001b[0;34m=\u001b[0m \u001b[0mlist\u001b[0m\u001b[0;34m(\u001b[0m\u001b[0mmap\u001b[0m\u001b[0;34m(\u001b[0m\u001b[0mint\u001b[0m\u001b[0;34m,\u001b[0m \u001b[0minput\u001b[0m\u001b[0;34m(\u001b[0m\u001b[0;34m)\u001b[0m\u001b[0;34m.\u001b[0m\u001b[0msplit\u001b[0m\u001b[0;34m(\u001b[0m\u001b[0;34m)\u001b[0m\u001b[0;34m)\u001b[0m\u001b[0;34m)\u001b[0m\u001b[0;34m\u001b[0m\u001b[0m\n\u001b[1;32m      4\u001b[0m \u001b[0mprint\u001b[0m\u001b[0;34m(\u001b[0m\u001b[0ml\u001b[0m\u001b[0;34m)\u001b[0m\u001b[0;34m\u001b[0m\u001b[0m\n\u001b[0;32m----> 5\u001b[0;31m \u001b[0mprint\u001b[0m\u001b[0;34m(\u001b[0m\u001b[0mlist\u001b[0m\u001b[0;34m(\u001b[0m\u001b[0mmap\u001b[0m\u001b[0;34m(\u001b[0m\u001b[0;32mlambda\u001b[0m \u001b[0mx\u001b[0m\u001b[0;34m,\u001b[0m \u001b[0my\u001b[0m\u001b[0;34m:\u001b[0m \u001b[0mx\u001b[0m \u001b[0;34m+\u001b[0m \u001b[0my\u001b[0m\u001b[0;34m,\u001b[0m \u001b[0ml\u001b[0m\u001b[0;34m,\u001b[0m \u001b[0;36m2\u001b[0m\u001b[0;34m)\u001b[0m\u001b[0;34m)\u001b[0m\u001b[0;34m)\u001b[0m\u001b[0;34m\u001b[0m\u001b[0m\n\u001b[0m\u001b[1;32m      6\u001b[0m \u001b[0mreduce\u001b[0m\u001b[0;34m(\u001b[0m\u001b[0;32mlambda\u001b[0m \u001b[0mx\u001b[0m\u001b[0;34m,\u001b[0m \u001b[0my\u001b[0m\u001b[0;34m:\u001b[0m \u001b[0mx\u001b[0m \u001b[0;34m+\u001b[0m \u001b[0my\u001b[0m\u001b[0;34m,\u001b[0m \u001b[0ml\u001b[0m\u001b[0;34m)\u001b[0m\u001b[0;34m\u001b[0m\u001b[0m\n",
      "\u001b[0;31mTypeError\u001b[0m: 'int' object is not iterable"
     ]
    }
   ],
   "source": [
    "# REDUCE\n",
    "from functools import reduce\n",
    "l = list(map(int, input().split()))\n",
    "print(l)\n",
    "\n",
    "reduce(lambda x, y: x + y, l)"
   ]
  },
  {
   "cell_type": "code",
   "execution_count": 10,
   "metadata": {},
   "outputs": [
    {
     "name": "stdout",
     "output_type": "stream",
     "text": [
      "1 2\n",
      "1 2 3 4\n"
     ]
    }
   ],
   "source": [
    "n, x = list(map(int, input().split()))\n",
    "l1 = list(map(int,input().split()))"
   ]
  },
  {
   "cell_type": "code",
   "execution_count": null,
   "metadata": {},
   "outputs": [],
   "source": []
  }
 ],
 "metadata": {
  "kernelspec": {
   "display_name": "Python 3",
   "language": "python",
   "name": "python3"
  },
  "language_info": {
   "codemirror_mode": {
    "name": "ipython",
    "version": 3
   },
   "file_extension": ".py",
   "mimetype": "text/x-python",
   "name": "python",
   "nbconvert_exporter": "python",
   "pygments_lexer": "ipython3",
   "version": "3.7.0"
  }
 },
 "nbformat": 4,
 "nbformat_minor": 2
}
