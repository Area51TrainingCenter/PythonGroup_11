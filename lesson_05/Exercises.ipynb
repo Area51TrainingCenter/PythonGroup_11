{
 "cells": [
  {
   "cell_type": "markdown",
   "metadata": {},
   "source": [
    "# Ejercicios #"
   ]
  },
  {
   "cell_type": "markdown",
   "metadata": {},
   "source": [
    "\n",
    "## 1. Diagonal secundaria ##\n",
    "\n",
    "La [traza de una matriz](https://es.wikipedia.org/wiki/Traza_(%C3%A1lgebra_lineal)) es la suma de todos los elementos de la diagonal principal de una matriz. Nosotros queremos hallar la **traza secundaria** que es la suma de elementos de la diagonal secundaria.\n",
    "\n",
    "![Diagonal secundaria](images/diagonal_secundaria.png \"Diagonal secundaria\")\n",
    "\n",
    "Dadas dos listas de igual longitud `A` y `B`, debes formar la matriz a partir de la suma de todos los elementos de `A` con todos los elementos de `B` uno a uno. Es decir si `A = [a, b]` y `B = [c, d]`, entonces la matriz será: `[[a + c, a + d], [b + c, b + d]]`.\n"
   ]
  },
  {
   "cell_type": "code",
   "execution_count": 5,
   "metadata": {},
   "outputs": [
    {
     "name": "stdout",
     "output_type": "stream",
     "text": [
      "1 2 3\n",
      "4 5 6\n",
      "[['1 + 4', '1 + 5', '1 + 6'], ['2 + 4', '2 + 5', '2 + 6'], ['3 + 4', '3 + 5', '3 + 6']]\n"
     ]
    }
   ],
   "source": [
    "A = list(map(int, input().split())) \n",
    "\n",
    "B = list(map(int, input().split()))\n",
    "print(list( [\"{} + {}\".format(j,i) for i in B] for j in A ))"
   ]
  },
  {
   "cell_type": "code",
   "execution_count": 4,
   "metadata": {},
   "outputs": [
    {
     "name": "stdout",
     "output_type": "stream",
     "text": [
      "1 2 3\n",
      "4 5 6\n",
      "[[5, 6, 7], [6, 7, 8], [7, 8, 9]]\n"
     ]
    }
   ],
   "source": [
    "A = list(map(int, input().split())) \n",
    "B = list(map(int, input().split()))\n",
    "print(list( [j + i for i in B] for j in A ))"
   ]
  },
  {
   "cell_type": "markdown",
   "metadata": {},
   "source": [
    "## 2. Super Input() ##\n",
    "\n",
    "Vamos a formar una matriz de `n x m`, o sea `n` filas y `m`columnas, y para esto usaremos la función `input`. En la primera línea leeremos los enteros `n` y `m`, y en las sucesivas `n` líneas leeremos `m` valores enteros.\n",
    "\n",
    "**Ejemplo:**\n",
    "\n",
    "Entrada:\n",
    "    \n",
    "    2 3\n",
    "    1 1 1\n",
    "    2 2 2\n",
    "\n",
    "Salida:\n",
    "\n",
    "    [[1, 1, 1], [2, 2, 2]]\n"
   ]
  },
  {
   "cell_type": "code",
   "execution_count": 5,
   "metadata": {},
   "outputs": [
    {
     "name": "stdout",
     "output_type": "stream",
     "text": [
      "2 3\n",
      "1 2 3\n",
      "1 2 3\n",
      "[[1, 2, 3], [1, 2, 3]]\n"
     ]
    }
   ],
   "source": [
    "n, m = map(int, input().split()[:2])\n",
    "matrizz = [list(map(int , input().split()[:m] )) for i in range(n)]\n",
    "print(matrizz)"
   ]
  },
  {
   "cell_type": "markdown",
   "metadata": {},
   "source": [
    "# 3. Emails ##\n",
    "\n",
    "Lees un entero `n` seguido por `n` emails. Tu tareas es imprimir una lista sólamente conteniendo emails válidos en order lexicográfico.\n",
    "\n",
    "Un email válido sigue las siguientes reglas:\n",
    "\n",
    ">1. Este debe tener el siguiente formato: username@websitename.extension.\n",
    ">\n",
    ">2. El username puede sólo contener letras, dígitos, guiones y subguiones.\n",
    ">\n",
    ">3. El website name puede sólo tener letras y dígitos.\n",
    ">\n",
    ">4. La máxima longitud de la extensión es 3.\n",
    "\n",
    "**Ejemplo:**\n",
    "\n",
    "Entrada:\n",
    "\n",
    "    3 user@area51.com user_2@area51.es user3@area_51.com\n",
    "    \n",
    "Salida:\n",
    "\n",
    "    ['user@area51.com', 'user_2@area51.es']\n"
   ]
  },
  {
   "cell_type": "code",
   "execution_count": 1,
   "metadata": {},
   "outputs": [
    {
     "name": "stdout",
     "output_type": "stream",
     "text": [
      "2\n",
      "puma.rasec@yahoo.es asdjajsd\n",
      "['puma.rasec@yahoo.es']\n"
     ]
    }
   ],
   "source": [
    "## SOLO ACEPTARA LOS DOS PRIMEROS EMAILS\n",
    "import re\n",
    "a = int(input())\n",
    "lista = list(str(input()).split(' ')[0:a])\n",
    "for i in lista:\n",
    "    if re.match(\"^([a-z0-9\\-\\_\\.]+)@([a-z0-9]+).([a-z]{1,3}$)\",i) == None :\n",
    "        lista.remove(i)\n",
    "\n",
    "print(lista)\n",
    "\n",
    "    \n"
   ]
  },
  {
   "cell_type": "code",
   "execution_count": null,
   "metadata": {},
   "outputs": [],
   "source": [
    "\n",
    "\n",
    "    "
   ]
  },
  {
   "cell_type": "markdown",
   "metadata": {},
   "source": [
    "## 4. Fibonacci al cubo ##\n",
    "\n",
    "Tu tarea es ta vez es imprimir una lista de `n` (leído con `input`) tuplas, que contengan al término de fibonacci correspondiente y al mismo elevado al cubo.\n",
    "\n",
    "**Ejemplo:**\n",
    "\n",
    "Entrada:\n",
    "\n",
    "    5\n",
    "    \n",
    "Salida:\n",
    "\n",
    "    [(0, 0), (1, 1), (1, 1), (2, 8), (3, 27)]"
   ]
  },
  {
   "cell_type": "code",
   "execution_count": 16,
   "metadata": {},
   "outputs": [
    {
     "name": "stdout",
     "output_type": "stream",
     "text": [
      "7\n"
     ]
    },
    {
     "data": {
      "text/plain": [
       "[(0, 0), (1, 1), (1, 1), (2, 8), (3, 27), (5, 125), (8, 512)]"
      ]
     },
     "execution_count": 16,
     "metadata": {},
     "output_type": "execute_result"
    }
   ],
   "source": [
    "n = int(input())\n",
    "\n",
    "def fib_cubo(_n):\n",
    "    lista = []\n",
    "    a, b = 0, 1\n",
    "    for i in range(_n): \n",
    "        lista.append((a, a**3))\n",
    "        a, b = b, a+b\n",
    "    return lista\n",
    "#fib_cubo(_n_)\n",
    "    \n",
    "fib_cubo(n)"
   ]
  },
  {
   "cell_type": "markdown",
   "metadata": {},
   "source": []
  }
 ],
 "metadata": {
  "kernelspec": {
   "display_name": "Python 3",
   "language": "python",
   "name": "python3"
  },
  "language_info": {
   "codemirror_mode": {
    "name": "ipython",
    "version": 3
   },
   "file_extension": ".py",
   "mimetype": "text/x-python",
   "name": "python",
   "nbconvert_exporter": "python",
   "pygments_lexer": "ipython3",
   "version": "3.7.0"
  }
 },
 "nbformat": 4,
 "nbformat_minor": 2
}
