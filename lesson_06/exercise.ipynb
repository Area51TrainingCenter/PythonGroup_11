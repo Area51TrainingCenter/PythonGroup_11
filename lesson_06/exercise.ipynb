{
 "cells": [
  {
   "cell_type": "markdown",
   "metadata": {},
   "source": [
    "encrypt_message = \"\"\"\n",
    "Bgc-bfufb tegaedppqna ql aggv zge xof tegaedppfe'l lgjb.\n",
    "Xof adpf vflqanfe logjbvn'x hf pdwqna d cgebv qn coqro xof tbdkfe ql mjlx d lpdbb tdex. Xof tbdkfe QL XOF HGLL; qx'l kgje vjxk xg fnxfexdqn oqp ge ofe.\n",
    "Zgrjl ql d pdxxfe gz vfrqvqna codx xoqnal kgj def ngx agqna xg vg.\n",
    "Xof rglx gz dvvqna d zfdxjef qln'x mjlx xof xqpf qx xdwfl xg rgvf qx. Xof rglx dblg qnrbjvfl xof dvvqxqgn gz dn ghlxdrbf xg zjxjef fstdnlqgn. Xof xeqrw ql xg tqrw xof zfdxjefl xodx vgn'x zqaox fdro gxofe. - Mgon Rdepdrw.\n",
    "\n",
    "(ccc.adpdljxed.rgp/uqfc/nfcl/234346?utkjpvbjr)\n",
    "\n",
    "(ccc.hedqnkijgxf.rgp/ijgxfl/djxogel/m/mgon_rdepdrw.oxpb)\n",
    "\n",
    "\"\"\""
   ]
  },
  {
   "cell_type": "markdown",
   "metadata": {},
   "source": [
    "Se sabe que sólo se han encriptado las letras del alfabeto (a - z). \n",
    "Te ayudaremos con la frecuencia de apariciones de las letras en el mensaje desencriptado.\n",
    "\n",
    "freq = \"TEOAISRHNUCMDLGWFPYKJBVQX\" # De mas frecuente a menos frecuente"
   ]
  },
  {
   "cell_type": "code",
   "execution_count": 4,
   "metadata": {},
   "outputs": [],
   "source": [
    "class CipherBase:\n",
    "\n",
    "    def __init__(self,encrypt_message):\n",
    "        self.letras_alfabeto = 'ABCDEFGHIJKLMNÑOPQRSTUVWXYZabcdefghijklmnñopqrstuvwxyz'\n",
    "        self.freq = 'TEOAISRHNUCMDLGWFPYKJBVQX'\n",
    "        self.__decrypt()\n",
    "        self.letras_encriptadas = ''\n",
    "        self.mensaje_desincreptado = ''\n",
    "        \n",
    "        \n",
    "        \n",
    "    \n",
    "    def __decrypt(self):\n",
    "        dic = {}\n",
    "        for i in self.encrypts_message :\n",
    "            if i in self.letras_alfabeto:\n",
    "                if i.upper() in dic:\n",
    "                    dic[i.upper()] += 1\n",
    "                else :\n",
    "                    dic[i.upper()] = 1\n",
    "        dic = dict(sorted(dic.items() , key = lambda x : x[1] ,reverse = True))\n",
    "        \n",
    "        self.freq_encriptadas = ''.join(e for e in dic.keys())\n",
    "        \n",
    "        self.mensaje_desincreptado = ''\n",
    "        \n",
    "        for i in self.encrypts_message :\n",
    "            t = self.freq_encriptadas.find(i.upper())\n",
    "            letras_desincreptadas = self.freq[t]\n",
    "            if t > -1 :\n",
    "                if i.issuper():\n",
    "                    self.mensaje_desincreptado += letras_desincreptadas.upper()\n",
    "                else :\n",
    "                    self.mensaje_desincreptado  += letras_desincreptadas.lower()\n",
    "            self.mensaje_desincreptado += i\n",
    "               \n",
    "\n",
    "    def print_decrypt_message(self):\n",
    "        #Recuerda mantener mayúsculas, espacios y saltos de línea.\n",
    "        return self.mensaje_desincreptado\n",
    "            \n",
    "\n",
    "    def __str__(self):\n",
    "        return print_decrypt_message()\n",
    "\n",
    "class Cipher(CipherBase):\n",
    "    def __init__(self,message):\n",
    "        super().__init__(message)\n",
    "    \n",
    "    \n",
    "    \n",
    "encrypt_message = \"\"\"\n",
    "Bgc-bfufb tegaedppqna ql aggv zge xof tegaedppfe'l lgjb.\n",
    "Xof adpf vflqanfe logjbvn'x hf pdwqna d cgebv qn coqro xof tbdkfe ql mjlx d lpdbb tdex. Xof tbdkfe QL XOF HGLL; qx'l kgje vjxk xg fnxfexdqn oqp ge ofe.\n",
    "Zgrjl ql d pdxxfe gz vfrqvqna codx xoqnal kgj def ngx agqna xg vg.\n",
    "Xof rglx gz dvvqna d zfdxjef qln'x mjlx xof xqpf qx xdwfl xg rgvf qx. Xof rglx dblg qnrbjvfl xof dvvqxqgn gz dn ghlxdrbf xg zjxjef fstdnlqgn. Xof xeqrw ql xg tqrw xof zfdxjefl xodx vgn'x zqaox fdro gxofe. - Mgon Rdepdrw.\n",
    "\n",
    "(ccc.adpdljxed.rgp/uqfc/nfcl/234346?utkjpvbjr)\n",
    "\n",
    "(ccc.hedqnkijgxf.rgp/ijgxfl/djxogel/m/mgon_rdepdrw.oxpb)\n",
    "\n",
    "\"\"\""
   ]
  },
  {
   "cell_type": "code",
   "execution_count": null,
   "metadata": {},
   "outputs": [],
   "source": []
  }
 ],
 "metadata": {
  "kernelspec": {
   "display_name": "Python 3",
   "language": "python",
   "name": "python3"
  }
 },
 "nbformat": 4,
 "nbformat_minor": 2
}
