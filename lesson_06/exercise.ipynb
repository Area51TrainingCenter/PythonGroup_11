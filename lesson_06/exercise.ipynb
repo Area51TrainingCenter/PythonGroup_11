{
 "cells": [
  {
   "cell_type": "markdown",
   "metadata": {},
   "source": [
    "encrypt_message = \"\"\"\n",
    "Bgc-bfufb tegaedppqna ql aggv zge xof tegaedppfe'l lgjb.\n",
    "Xof adpf vflqanfe logjbvn'x hf pdwqna d cgebv qn coqro xof tbdkfe ql mjlx d lpdbb tdex. Xof tbdkfe QL XOF HGLL; qx'l kgje vjxk xg fnxfexdqn oqp ge ofe.\n",
    "Zgrjl ql d pdxxfe gz vfrqvqna codx xoqnal kgj def ngx agqna xg vg.\n",
    "Xof rglx gz dvvqna d zfdxjef qln'x mjlx xof xqpf qx xdwfl xg rgvf qx. Xof rglx dblg qnrbjvfl xof dvvqxqgn gz dn ghlxdrbf xg zjxjef fstdnlqgn. Xof xeqrw ql xg tqrw xof zfdxjefl xodx vgn'x zqaox fdro gxofe. - Mgon Rdepdrw.\n",
    "\n",
    "(ccc.adpdljxed.rgp/uqfc/nfcl/234346?utkjpvbjr)\n",
    "\n",
    "(ccc.hedqnkijgxf.rgp/ijgxfl/djxogel/m/mgon_rdepdrw.oxpb)\n",
    "\n",
    "\"\"\""
   ]
  },
  {
   "cell_type": "markdown",
   "metadata": {},
   "source": [
    "Se sabe que sólo se han encriptado las letras del alfabeto (a - z). \n",
    "Te ayudaremos con la frecuencia de apariciones de las letras en el mensaje desencriptado.\n",
    "\n",
    "freq = \"TEOAISRHNUCMDLGWFPYKJBVQX\" # De mas frecuente a menos frecuente"
   ]
  },
  {
   "cell_type": "code",
   "execution_count": 4,
   "metadata": {},
   "outputs": [],
   "source": [
    "import  operator\n",
    "class CipherBase:\n",
    "\n",
    "    def __init__(self, encrypt_message):\n",
    "        self.le_alfa = 'abcdefghijklmnñopqrstuvwxyzABCDEFGHIJKLMNÑOPQRSTUVWXYZ'\n",
    "        self.f_en = ''\n",
    "        self.mensaje_desincreptado = ''\n",
    "        self.encrypt_message = encrypt_message\n",
    "        self.freq = 'TEOAISRHNUCMDLGWFPYKJBVQX'\n",
    "        self.__decrypt()\n",
    "    def __decrypt(self):\n",
    "        dic = {}\n",
    "        self.decrypt_message = ''\n",
    "        for letter in self.encrypt_message:\n",
    "            if letter in self.le_alfa:\n",
    "                if letter.upper() in dic:\n",
    "                    dic[letter.upper()] += 1\n",
    "                else:\n",
    "                    dic[letter.upper()] = 1\n",
    "\n",
    "        #resultado = sorted(dic.items(), key=operator.itemgetter(0))\n",
    "        dic = dict(sorted(dic.items(), key=lambda x: x[1], reverse=True))\n",
    "\n",
    "\n",
    "        self.f_en = ''.join(m for m in dic.keys())\n",
    "\n",
    "        for letter in self.encrypt_message:\n",
    "            n = self.f_en.find(letter.upper())\n",
    "            decrypted_letter = self.freq[n]\n",
    "                if letter.isupper():\n",
    "                    self.mensaje_desincreptado += decrypted_letter.upper()\n",
    "                else:\n",
    "                    self.mensaje_desincreptado += decrypted_letter.lower()\n",
    "            else:\n",
    "                self.mensaje_desincreptado += letter\n",
    "\n",
    "    def print_decrypt_message(self):\n",
    "        # Recuerda mantener mayúsculas, espacios y saltos de línea.\n",
    "        return self.mensaje_desincreptado\n",
    "\n",
    "    def __str__(self):\n",
    "        return self.print_decrypt_message()\n",
    "\n",
    "\n",
    "class Cipher(CipherBase):\n",
    "    def __init__(self, men):\n",
    "        super().__init__(men)\n",
    "\n",
    "\n",
    "encrypt_message = '''\n",
    "Bgc-bfufb tegaedppqna ql aggv zge xof tegaedppfe'l lgjb.\n",
    "Xof adpf vflqanfe logjbvn'x hf pdwqna d cgebv qn coqro xof tbdkfe ql\n",
    "mjlx d lpdbb tdex.\n",
    "Xof tbdkfe QL XOF HGLL; qx'l kgje vjxk xg fnxfexdqn oqp ge ofe.\n",
    "Zgrjl ql d pdxxfe gz vfrqvqna codx xoqnal kgj def ngx agqna xg vg.\n",
    "Xof rglx gz dvvqna d zfdxjef qln'x mjlx xof xqpf qx xdwfl xg rgvf qx.\n",
    "Xof rglx dblg qnrbjvfl xof dvvqxqgn gz dn ghlxdrbf xg zjxjef fstdnlqgn.\n",
    "Xof xeqrw ql xg tqrw xof zfdxjefl xodx vgn'x zqaox fdro gxofe.\n",
    "- Mgon Rdepdrw.\n",
    "(ccc.adpdljxed.rgp/uqfc/nfcl/234346?utkjpvbjr)\n",
    "(ccc.hedqnkijgxf.rgp/ijgxfl/djxogel/m/mgon_rdepdrw.oxpb)\n",
    "'''\n",
    "cipher = Cipher(encrypt_message)\n",
    "print (cipher)"
   ]
  },
  {
   "cell_type": "code",
   "execution_count": null,
   "metadata": {},
   "outputs": [],
   "source": []
  }
 ],
 "metadata": {
  "kernelspec": {
   "display_name": "Python 3",
   "language": "python",
   "name": "python3"
  },
  "language_info": {
   "codemirror_mode": {
    "name": "ipython",
    "version": 3
   },
   "file_extension": ".py",
   "mimetype": "text/x-python",
   "name": "python",
   "nbconvert_exporter": "python",
   "pygments_lexer": "ipython3",
   "version": "3.6.6"
  }
 },
 "nbformat": 4,
 "nbformat_minor": 2
}
