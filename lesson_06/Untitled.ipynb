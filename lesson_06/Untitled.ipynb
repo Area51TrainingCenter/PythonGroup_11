{
 "cells": [
  {
   "cell_type": "code",
   "execution_count": 42,
   "metadata": {},
   "outputs": [
    {
     "name": "stdout",
     "output_type": "stream",
     "text": [
      "[('x', 52), ('f', 43), ('g', 41), ('d', 36), ('q', 31), ('l', 30), ('e', 27), ('o', 26), ('n', 23), ('j', 19), ('r', 18), ('p', 17), ('v', 16), ('b', 15), ('a', 14), ('c', 12), ('z', 9), ('t', 8), ('k', 7), ('w', 6), ('m', 5), ('h', 4), ('u', 3), ('i', 2), ('s', 1)]\n",
      "[('t', 0), ('e', 1), ('o', 2), ('a', 3), ('i', 4), ('s', 5), ('r', 6), ('h', 7), ('n', 8), ('u', 9), ('c', 10), ('m', 11), ('d', 12), ('l', 13), ('g', 14), ('w', 15), ('f', 16), ('p', 17), ('y', 18), ('k', 19), ('j', 20), ('b', 21), ('v', 22), ('q', 23), ('x', 24)]\n",
      "{'x': 't', 'f': 'e', 'g': 'o', 'd': 'a', 'q': 'i', 'l': 's', 'e': 'r', 'o': 'h', 'n': 'n', 'j': 'u', 'r': 'c', 'p': 'm', 'v': 'd', 'b': 'l', 'a': 'g', 'c': 'w', 'z': 'f', 't': 'p', 'k': 'y', 'w': 'k', 'm': 'j', 'h': 'b', 'u': 'v', 'i': 'q', 's': 'x'}\n",
      "\n",
      " Low-level programming is good for the programmer's soul.\n",
      "    The game designer shouldn't be making a world in which the player is just a small part. The player IS THE BOSS; it's your duty to entertain him or her.\n",
      "    Focus is a matter of deciding what things you are not going to do.\n",
      "    The cost of adding a feature isn't just the time it takes to code it. The cost also includes the addition of an obstacle to future expansion. The trick is to pick the features that don't fight each other. - John Carmack.\n",
      "\n",
      "    (www.gamasutra.com/view/news/234346?vpyumdluc)\n",
      "\n",
      "    (www.brainyquote.com/quotes/authors/j/john_carmack.html)\n",
      "    \n"
     ]
    }
   ],
   "source": [
    "import re \n",
    "string = '''\n",
    " Bgc-bfufb tegaedppqna ql aggv zge xof tegaedppfe'l lgjb.\n",
    "    Xof adpf vflqanfe logjbvn'x hf pdwqna d cgebv qn coqro xof tbdkfe ql mjlx d lpdbb tdex. Xof tbdkfe QL XOF HGLL; qx'l kgje vjxk xg fnxfexdqn oqp ge ofe.\n",
    "    Zgrjl ql d pdxxfe gz vfrqvqna codx xoqnal kgj def ngx agqna xg vg.\n",
    "    Xof rglx gz dvvqna d zfdxjef qln'x mjlx xof xqpf qx xdwfl xg rgvf qx. Xof rglx dblg qnrbjvfl xof dvvqxqgn gz dn ghlxdrbf xg zjxjef fstdnlqgn. Xof xeqrw ql xg tqrw xof zfdxjefl xodx vgn'x zqaox fdro gxofe. - Mgon Rdepdrw.\n",
    "\n",
    "    (ccc.adpdljxed.rgp/uqfc/nfcl/234346?utkjpvbjr)\n",
    "\n",
    "    (ccc.hedqnkijgxf.rgp/ijgxfl/djxogel/m/mgon_rdepdrw.oxpb)\n",
    "    '''\n",
    "count = {}\n",
    "for i in string.lower():\n",
    "    if re.match((r'[a-z]'),i)!= None:\n",
    "        if  i in count.keys():\n",
    "            count[i] = count[i] + 1\n",
    "        else:\n",
    "            count[i] = 1\n",
    "l = list(count.items())\n",
    "l.sort(key=lambda x:x[1], reverse=True)\n",
    "print(l)\n",
    "\n",
    "frec = list(zip( \"TEOAISRHNUCMDLGWFPYKJBVQX\".lower(), range(27)))\n",
    "print(frec)\n",
    "\n",
    "comparacion = dict((l[i][0], frec[i][0]) for i in range(0, len(l)) )\n",
    "print(comparacion)\n",
    "\n",
    "new_string = \"\"\n",
    "for i in string:\n",
    "    if i.isalpha():\n",
    "        if i.isupper() :\n",
    "            new_string += str(comparacion[i.lower()]).upper()\n",
    "        elif i.islower():\n",
    "            new_string += str(comparacion[i])\n",
    "    else:\n",
    "        new_string += i \n",
    "print(new_string)\n"
   ]
  },
  {
   "cell_type": "code",
   "execution_count": null,
   "metadata": {},
   "outputs": [],
   "source": []
  }
 ],
 "metadata": {
  "kernelspec": {
   "display_name": "Python 3",
   "language": "python",
   "name": "python3"
  },
  "language_info": {
   "codemirror_mode": {
    "name": "ipython",
    "version": 3
   },
   "file_extension": ".py",
   "mimetype": "text/x-python",
   "name": "python",
   "nbconvert_exporter": "python",
   "pygments_lexer": "ipython3",
   "version": "3.7.0"
  }
 },
 "nbformat": 4,
 "nbformat_minor": 2
}
