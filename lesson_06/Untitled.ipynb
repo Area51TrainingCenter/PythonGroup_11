{
 "cells": [
  {
   "cell_type": "code",
   "execution_count": 36,
   "metadata": {},
   "outputs": [
    {
     "name": "stdout",
     "output_type": "stream",
     "text": [
      "{'E': 0, 'A': 1, 'O': 2, 'S': 3, 'R': 4, 'N': 5, 'I': 6, 'D': 7, 'L': 8, 'C': 9, 'T': 10, 'U': 11, 'M': 12, 'P': 13, 'B': 14, 'G': 15, 'V': 16, 'Y': 17, 'Q': 18, 'H': 19, 'F': 20, 'Z': 21, 'J': 22, 'X': 23, 'K': 24, 'W': 25}\n",
      "{0: 'T', 1: 'E', 2: 'O', 3: 'A', 4: 'I', 5: 'S', 6: 'R', 7: 'H', 8: 'N', 9: 'U', 10: 'C', 11: 'M', 12: 'D', 13: 'L', 14: 'G', 15: 'W', 16: 'F', 17: 'P', 18: 'Y', 19: 'K', 20: 'J', 21: 'B', 22: 'V', 23: 'Q', 24: 'X'}\n",
      "E : T\n",
      "A : E\n",
      "O : O\n",
      "S : A\n",
      "R : I\n",
      "N : S\n",
      "I : R\n",
      "D : H\n",
      "L : N\n",
      "C : U\n",
      "T : C\n",
      "U : M\n",
      "M : D\n",
      "P : L\n",
      "B : G\n",
      "G : W\n",
      "V : F\n",
      "Y : P\n",
      "Q : Y\n",
      "H : K\n",
      "F : J\n",
      "Z : B\n",
      "J : V\n",
      "X : Q\n",
      "K : X\n",
      "W : None\n",
      "Z\n"
     ]
    }
   ],
   "source": [
    "frec1 = dict(zip('E A O S R N I D L C T U M P B G V Y Q H F Z J X K W'.split(), range(26))) #se borro la Ñ\n",
    "frec2 = dict(zip(range(26), 'TEOAISRHNUCMDLGWFPYKJBVQX'))\n",
    "print(frec1)\n",
    "print(frec2)\n",
    "#map(frec1, frec2)\n",
    "#print(frec1.keys())\n",
    "#print(frec2.values())\n",
    "\n",
    "letra_faltante = \"\"\n",
    "\n",
    "for k, value in frec1.items():\n",
    "    print('{} : {}'.format(k, frec2.get(value)))\n",
    "    if k not in frec2.values():\n",
    "        letra_faltante += k\n",
    "print(letra_faltante)\n"
   ]
  },
  {
   "cell_type": "code",
   "execution_count": null,
   "metadata": {},
   "outputs": [],
   "source": [
    "import operator\n",
    "frase = str('Bgc-bfufb tegaedppqna ql aggv zge xof tegaedppfe l lgjb.Xof adpf vflqanfe logjbvnx hf pdwqna d cgebv qn coqro xof tbdkfe ql mjlx d lpdbb tdex. Xof tbdkfe QL XOF HGLL; qxl kgje vjxk xg fnxfexdqn oqp ge ofe.Zgrjl ql d pdxxfe gz vfrqvqna codx xoqnal kgj def ngx agqna xg vg.    Xof rglx gz dvvqna d zfdxjef qlnx mjlx xof xqpf qx xdwfl xg rgvf qx. Xof rglx dblg qnrbjvfl xof dvvqxqgn gz dn ghlxdrbf xg zjxjef fstdnlqgn. Xof xeqrw ql xg tqrw xof zfdxjefl xodx vgnx zqaox fdro gxofe. - Mgon Rdepdrw.(ccc.adpdljxed.rgp/uqfc/nfcl/234346?utkjpvbjr)    (ccc.hedqnkijgxf.rgp/ijgxfl/djxogel/m/mgon_rdepdrw.oxpb)))')\n",
    "frec = {}\n",
    "for i in frase:\n",
    "    if i.isalpha():\n",
    "        if i.lower() not in frec.keys():\n",
    "            frec[i.lower()] = 1\n",
    "        else:\n",
    "            frec[i.lower()] += 1\n",
    "            \n",
    "            \n",
    "#print(sorted(frec))\n",
    "orden = []\n",
    "for k in frec.keys():\n",
    "    if len(orden) == 0:\n",
    "        orden.append(k)\n",
    "    else:\n",
    "        for i in orden:\n",
    "            if frec[k] < frec[i]:\n",
    "                orden.insert(orden.index(i), k)\n",
    "            else:\n",
    "                break\n",
    "            \n",
    "        \n",
    "        \n",
    "print(orden)   \n",
    "\n",
    "\n",
    "\n",
    "    "
   ]
  },
  {
   "cell_type": "code",
   "execution_count": null,
   "metadata": {},
   "outputs": [],
   "source": []
  }
 ],
 "metadata": {
  "kernelspec": {
   "display_name": "Python 3",
   "language": "python",
   "name": "python3"
  },
  "language_info": {
   "codemirror_mode": {
    "name": "ipython",
    "version": 3
   },
   "file_extension": ".py",
   "mimetype": "text/x-python",
   "name": "python",
   "nbconvert_exporter": "python",
   "pygments_lexer": "ipython3",
   "version": "3.7.0"
  }
 },
 "nbformat": 4,
 "nbformat_minor": 2
}
