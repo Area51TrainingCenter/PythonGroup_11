{
 "cells": [
  {
   "cell_type": "markdown",
   "metadata": {},
   "source": [
    "permite coleccionar elementos y define una serie de comportamientos.\n",
    "\n",
    "Tu tarea es implementar la clase Stack siguiendo la interfaz:"
   ]
  },
  {
   "cell_type": "code",
   "execution_count": 15,
   "metadata": {},
   "outputs": [
    {
     "name": "stdout",
     "output_type": "stream",
     "text": [
      "pila : [5, 6]\n",
      "pila : [5]\n",
      "pila : [5, 10]\n",
      "10\n",
      "False\n",
      "2\n",
      "None\n"
     ]
    }
   ],
   "source": [
    "class StackBase():\n",
    "\n",
    "    # Construye una pila vacía.\n",
    "    def __init__(self):\n",
    "        self.pila = []\n",
    "\n",
    "    # Devuelve un entero, el número de elementos en la pila.\n",
    "    def size(self):\n",
    "        print(len(self.pila))\n",
    "\n",
    "\n",
    "    # Agrega un elemento al final de la pila.\n",
    "    def push(self , num):\n",
    "        return self.pila.append(num)\n",
    "\n",
    "\n",
    "    # Elimina un elemento del final de la pila y lo devuelve.\n",
    "    def pop(self):\n",
    "        return self.pila.pop()\n",
    "\n",
    "    # Devuelve un elemento del final de la pila sin eliminarlo.\n",
    "    def top(self):\n",
    "        return self.pila[-1]\n",
    "\n",
    "\n",
    "    # Devuelve True si la pila está vacía, en caso contrario devuelve False.\n",
    "    def empty(self):\n",
    "        if len(self.pila) == 0:\n",
    "            print(True)\n",
    "        else:\n",
    "            print(False)\n",
    "        pass\n",
    "    # Elimina todos los elementos de la pila.\n",
    "    def clear(self):\n",
    "        print(self.pila.clear())\n",
    "\n",
    "    def __str__(self):\n",
    "        return 'pila : {}'.format(self.pila)\n",
    "\n",
    "stackbase = StackBase()\n",
    "stackbase.push(5)\n",
    "stackbase.push(6)\n",
    "print(stackbase)\n",
    "stackbase.pop()\n",
    "print(stackbase)\n",
    "stackbase.push(10)\n",
    "print(stackbase)\n",
    "print(stackbase.top())\n",
    "stackbase.empty()\n",
    "stackbase.size()\n",
    "stackbase.clear()\n",
    "\n"
   ]
  },
  {
   "cell_type": "markdown",
   "metadata": {},
   "source": [
    "Ninguno de los métodos debe debería tener un costo en tiempo que dependa del tamaño de la Pila."
   ]
  },
  {
   "cell_type": "markdown",
   "metadata": {},
   "source": [
    "JUPYTER NO LEE LAS DOS PRIMERAS PREGUNTAS , EN EL PYCHARM SI LO HACE NORMAL\n"
   ]
  },
  {
   "cell_type": "code",
   "execution_count": null,
   "metadata": {},
   "outputs": [],
   "source": []
  }
 ],
 "metadata": {
  "kernelspec": {
   "display_name": "Python 3",
   "language": "python",
   "name": "python3"
  },
  "language_info": {
   "codemirror_mode": {
    "name": "ipython",
    "version": 3
   },
   "file_extension": ".py",
   "mimetype": "text/x-python",
   "name": "python",
   "nbconvert_exporter": "python",
   "pygments_lexer": "ipython3",
   "version": "3.6.6"
  }
 },
 "nbformat": 4,
 "nbformat_minor": 2
}
