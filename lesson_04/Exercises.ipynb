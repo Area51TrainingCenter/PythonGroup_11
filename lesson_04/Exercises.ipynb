{
 "cells": [
  {
   "cell_type": "markdown",
   "metadata": {},
   "source": [
    "# Ejercicios #"
   ]
  },
  {
   "cell_type": "markdown",
   "metadata": {},
   "source": [
    "## 1. Calculando ##\n",
    "\n",
    "Para un entero positivo `n` se define la función `f`:\n",
    "\n",
    "    f(n) =  - 1 + 2 - 3 + ... + (-1)^n * n\n",
    "\n",
    "Tu tarea es desarrollar una función para calcular `f(n)` para un dado entero `n`."
   ]
  },
  {
   "cell_type": "code",
   "execution_count": 1,
   "metadata": {},
   "outputs": [
    {
     "name": "stdout",
     "output_type": "stream",
     "text": [
      "-1\n"
     ]
    }
   ],
   "source": [
    "def f(n):\n",
    "    su = 0\n",
    "    for i in range(1,n+1):\n",
    "        a = ((-1)**i)*i\n",
    "        su += a\n",
    "    return su\n",
    "print(f(1))"
   ]
  },
  {
   "cell_type": "markdown",
   "metadata": {},
   "source": [
    "## 2. Sierpinski ##\n",
    "\n",
    "Tu tarea es dibujar el [triángulo de Sierpinski](https://es.wikipedia.org/wiki/Tri%C3%A1ngulo_de_Sierpinski) usando sólo caracteres ascii. Debes leer un número entero positivo que te indicará la profundidad del famoso fractal.\n",
    "\n",
    "**Ejemplo:**\n",
    "\n",
    "Entradas:\n",
    "     \n",
    "     3\n",
    "     2\n",
    "     1\n",
    "     \n",
    "Salidas:\n",
    "\n",
    "           /\\\n",
    "          /__\\\n",
    "         /\\  /\\\n",
    "        /__\\/__\\\n",
    "       /\\      /\\\n",
    "      /__\\    /__\\\n",
    "     /\\  /\\  /\\  /\\\n",
    "    /__\\/__\\/__\\/__\\\n",
    "\n",
    "       /\\\n",
    "      /__\\\n",
    "     /\\  /\\\n",
    "    /__\\/__\\\n",
    "\n",
    "     /\\\n",
    "    /__\\\n"
   ]
  },
  {
   "cell_type": "markdown",
   "metadata": {},
   "source": [
    "## 3. Fibonacci ##\n",
    "\n",
    "Dado un número entero positivo `n`, tu tarea es hacer una función para imprimir los `n` primeros términos de la [sucesión de Fibonacci](https://es.wikipedia.org/wiki/Sucesi%C3%B3n_de_Fibonacci). Implementa tanto la solución recursiva como iterativa.\n",
    "\n",
    "**Ejemplo:**\n",
    "\n",
    ">Entrada: 7\n",
    ">\n",
    ">Salida: 0 1 1 2 3 5 8"
   ]
  },
  {
   "cell_type": "code",
   "execution_count": 2,
   "metadata": {},
   "outputs": [
    {
     "data": {
      "text/plain": [
       "[0, 1, 1, 2, 3, 5, 8]"
      ]
     },
     "execution_count": 2,
     "metadata": {},
     "output_type": "execute_result"
    }
   ],
   "source": [
    "n = 7\n",
    "def fibo(n) :\n",
    "    if n == 0 :\n",
    "        return 0\n",
    "    elif n == 1 :\n",
    "        return 1    \n",
    "    \n",
    "    return  fibo(n-1) + fibo(n-2)  \n",
    "\n",
    "[fibo(i) for i in range(n)]"
   ]
  },
  {
   "cell_type": "code",
   "execution_count": 3,
   "metadata": {},
   "outputs": [
    {
     "name": "stdout",
     "output_type": "stream",
     "text": [
      "0 1 1 2 3 "
     ]
    }
   ],
   "source": [
    "m = 5\n",
    "def fibo2(m):\n",
    "    a , b = 0 , 1\n",
    "    for i in range(m):\n",
    "        print(a  , end= ' ')\n",
    "        a ,b = b , a + b\n",
    "fibo2(m)"
   ]
  },
  {
   "cell_type": "markdown",
   "metadata": {},
   "source": [
    "## 4. Hanoi 2 ##\n",
    "\n",
    "Nuevamente con las torres de Hanoi, ya teníamos una solución que devolvía el mínimo número de pasos, esta vez la función debe imprimir cuáles son estos pasos. La función recibe un entero positivo `n` que indica el número de discos, los discos se numeran de `1 a n`, del más pequeno al más grande. Los palos serán `A, B, C`. El formato se indica en el ejemplo.\n",
    "\n",
    "**Ejemplo:**\n",
    "\n",
    "Entrada:\n",
    "\n",
    "    2\n",
    "    \n",
    "Salida:\n",
    "\n",
    "    Disco 1 movido de A a B\n",
    "    Disco 2 movido de A a C\n",
    "    Disco 1 movido de B a C\n",
    "\n"
   ]
  },
  {
   "cell_type": "code",
   "execution_count": 4,
   "metadata": {},
   "outputs": [
    {
     "name": "stdout",
     "output_type": "stream",
     "text": [
      "Disco 1 movido de  A a C\n",
      "Disco 2 movido de  A a B\n",
      "Disco 1 movido de  C a B\n"
     ]
    }
   ],
   "source": [
    "def moverTorre(n , inicio , final , intermedio) :\n",
    "    if n >= 1 :\n",
    "        moverTorre(n-1,inicio,intermedio,final)\n",
    "        moverDisco(n,inicio,final)\n",
    "        moverTorre(n-1,intermedio,final,inicio)\n",
    "     \n",
    "        \n",
    "def moverDisco(a,desde , hacia):\n",
    "    print('Disco',a, 'movido de ' , desde ,'a' , hacia)\n",
    "    \n",
    "moverTorre(2 , 'A','B','C')"
   ]
  },
  {
   "cell_type": "code",
   "execution_count": null,
   "metadata": {},
   "outputs": [],
   "source": []
  }
 ],
 "metadata": {
  "kernelspec": {
   "display_name": "Python 3",
   "language": "python",
   "name": "python3"
  },
  "language_info": {
   "codemirror_mode": {
    "name": "ipython",
    "version": 3
   },
   "file_extension": ".py",
   "mimetype": "text/x-python",
   "name": "python",
   "nbconvert_exporter": "python",
   "pygments_lexer": "ipython3",
   "version": "3.6.6"
  }
 },
 "nbformat": 4,
 "nbformat_minor": 2
}
