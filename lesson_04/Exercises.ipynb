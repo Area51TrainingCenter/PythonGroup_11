{
 "cells": [
  {
   "cell_type": "markdown",
   "metadata": {},
   "source": [
    "# Ejercicios #"
   ]
  },
  {
   "cell_type": "markdown",
   "metadata": {},
   "source": [
    "## 1. Calculando ##\n",
    "\n",
    "Para un entero positivo `n` se define la función `f`:\n",
    "\n",
    "    f(n) =  - 1 + 2 - 3 + ... + (-1)^n * n\n",
    "\n",
    "Tu tarea es desarrollar una función para calcular `f(n)` para un dado entero `n`."
   ]
  },
  {
   "cell_type": "code",
   "execution_count": 177,
   "metadata": {},
   "outputs": [
    {
     "name": "stdout",
     "output_type": "stream",
     "text": [
      "7\n",
      "-4\n"
     ]
    }
   ],
   "source": [
    "n = int(input())\n",
    "def funcion(n):\n",
    "    r = 0\n",
    "    #s = \"\"\n",
    "    if n >= 1:\n",
    "        r = funcion(n - 1) + ((-1) ** n) * n\n",
    "   #     s = print(str(((-1) ** n) * n))\n",
    "    return r\n",
    "#print(cadena)\n",
    "print(funcion(n))"
   ]
  },
  {
   "cell_type": "code",
   "execution_count": 193,
   "metadata": {},
   "outputs": [
    {
     "name": "stdout",
     "output_type": "stream",
     "text": [
      "3\n",
      "f(n) =  -1 2 -3\n"
     ]
    }
   ],
   "source": [
    "n = int(input())\n",
    "cadena = \"f(n) = \"\n",
    "for i in range(1, n+1):\n",
    "    s = str(((-1) ** i) * i)\n",
    "    cadena = cadena + \" \" + s\n",
    "print(cadena)"
   ]
  },
  {
   "cell_type": "markdown",
   "metadata": {},
   "source": [
    "## 2. Sierpinski ##\n",
    "\n",
    "Tu tarea es dibujar el [triángulo de Sierpinski](https://es.wikipedia.org/wiki/Tri%C3%A1ngulo_de_Sierpinski) usando sólo caracteres ascii. Debes leer un número entero positivo que te indicará la profundidad del famoso fractal.\n",
    "\n",
    "**Ejemplo:**\n",
    "\n",
    "Entradas:\n",
    "     \n",
    "     3\n",
    "     2\n",
    "     1\n",
    "     \n",
    "Salidas:\n",
    "\n",
    "           /\\\n",
    "          /__\\\n",
    "         /\\  /\\\n",
    "        /__\\/__\\\n",
    "       /\\      /\\\n",
    "      /__\\    /__\\\n",
    "     /\\  /\\  /\\  /\\\n",
    "    /__\\/__\\/__\\/__\\\n",
    "\n",
    "       /\\\n",
    "      /__\\\n",
    "     /\\  /\\\n",
    "    /__\\/__\\\n",
    "\n",
    "     /\\\n",
    "    /__\\\n"
   ]
  },
  {
   "cell_type": "code",
   "execution_count": 3,
   "metadata": {},
   "outputs": [
    {
     "name": "stdout",
     "output_type": "stream",
     "text": [
      "3\n",
      "13.0\n"
     ]
    }
   ],
   "source": [
    "a = int(input())\n",
    "\n",
    "b = ((3 ** a) / 2) - (1 / 2)\n",
    "print(b)"
   ]
  },
  {
   "cell_type": "code",
   "execution_count": 5,
   "metadata": {},
   "outputs": [
    {
     "name": "stdout",
     "output_type": "stream",
     "text": [
      "                       *                       \n",
      "                      ***                      \n",
      "                     *****                     \n",
      "                    *     *                    \n",
      "                   ***   ***                   \n",
      "                  ***** *****                  \n",
      "                 *           *                 \n",
      "                ***         ***                \n",
      "               *****       *****               \n",
      "              *     *     *     *              \n",
      "             ***   ***   ***   ***             \n",
      "            ***** ***** ***** *****            \n",
      "           *                       *           \n",
      "          ***                     ***          \n",
      "         *****                   *****         \n",
      "        *     *                 *     *        \n",
      "       ***   ***               ***   ***       \n",
      "      ***** *****             ***** *****      \n",
      "     *           *           *           *     \n",
      "    ***         ***         ***         ***    \n",
      "   *****       *****       *****       *****   \n",
      "  *     *     *     *     *     *     *     *  \n",
      " ***   ***   ***   ***   ***   ***   ***   *** \n",
      "***** ***** ***** ***** ***** ***** ***** *****\n"
     ]
    }
   ],
   "source": [
    "####### NO LO HICE YO .... NO PUDE ;; ESTOY Q VEO EL CODIGO PARA APRENDER -_____-\n",
    "from itertools import chain \n",
    " \n",
    "def next_Sierpiński(triangle): \n",
    "    base = (len(triangle[0]) << 1) | 1 \n",
    "    return chain((row.center(base) for row in triangle), \n",
    "                 map(' '.join, zip(triangle, triangle))) \n",
    " \n",
    "def Sierpiński(height): \n",
    "    triangle = generate_triangle(height) \n",
    "    while True: \n",
    "        yield triangle \n",
    "        triangle = list(next_Sierpiński(triangle)) \n",
    " \n",
    "def generate_triangle(height): \n",
    "    base = height << 1 \n",
    "    return [('*' * i).center(base - 1) for i in range(1, base + 1, 2)] \n",
    " \n",
    " \n",
    "from itertools import islice \n",
    " \n",
    "triangles = list(islice(Sierpiński(3), 4)) \n",
    "print(*triangles[-1], sep = '\\n')"
   ]
  },
  {
   "cell_type": "markdown",
   "metadata": {},
   "source": [
    "## 3. Fibonacci ##\n",
    "\n",
    "Dado un número entero positivo `n`, tu tarea es hacer una función para imprimir los `n` primeros términos de la [sucesión de Fibonacci](https://es.wikipedia.org/wiki/Sucesi%C3%B3n_de_Fibonacci). Implementa tanto la solución recursiva como iterativa.\n",
    "\n",
    "**Ejemplo:**\n",
    "\n",
    ">Entrada: 7\n",
    ">\n",
    ">Salida: 0 1 1 2 3 5 8"
   ]
  },
  {
   "cell_type": "code",
   "execution_count": 148,
   "metadata": {},
   "outputs": [
    {
     "name": "stdout",
     "output_type": "stream",
     "text": [
      "7\n",
      "0 1 1 2 3 5 8 "
     ]
    }
   ],
   "source": [
    "_n_ = int(input())\n",
    "def fib(n):\n",
    "    a, b = 0, 1\n",
    "    for i in range(n): \n",
    "        print(a, end=' ')\n",
    "        a, b = b, a+b\n",
    "\n",
    "fib(_n_)"
   ]
  },
  {
   "cell_type": "markdown",
   "metadata": {},
   "source": [
    "#### 4. Hanoi 2 ##\n",
    "\n",
    "Nuevamente con las torres de Hanoi, ya teníamos una solución que devolvía el mínimo número de pasos, esta vez la función debe imprimir cuáles son estos pasos. La función recibe un entero positivo `n` que indica el número de discos, los discos se numeran de `1 a n`, del más pequeno al más grande. Los palos serán `A, B, C`. El formato se indica en el ejemplo.\n",
    "\n",
    "**Ejemplo:**\n",
    "\n",
    "Entrada:\n",
    "\n",
    "    2\n",
    "    \n",
    "Salida:\n",
    "\n",
    "    Disco 1 movido de A a B\n",
    "    Disco 2 movido de A a C\n",
    "    Disco 1 movido de B a C\n",
    "\n"
   ]
  },
  {
   "cell_type": "code",
   "execution_count": 65,
   "metadata": {},
   "outputs": [
    {
     "name": "stdout",
     "output_type": "stream",
     "text": [
      "3\n",
      "este es el primer pool [3, 2, 1]\n",
      "este es el primer pool [3, 2, 1]\n",
      "este es el primer pool [3, 2, 1]\n",
      "[[3, 2, 1, 0], [4, 2], []]\n",
      "se puede mover 4[]\n",
      "se puede mover 2[4]\n",
      "no se puede mover 3[4, 2]\n",
      "se puede mover 0[3, 2, 1]\n",
      "[3, 2, 1, 0]\n",
      "[4, 2]\n",
      "[[3, 2, 1, 0], [4, 2], []]\n"
     ]
    }
   ],
   "source": [
    "discos = int(input())\n",
    "A = []\n",
    "B = []\n",
    "C = []\n",
    "pools = [A, B, C]\n",
    "\n",
    "for i in range( discos ,0 ,-1):\n",
    "    A.append(i)\n",
    "    \n",
    "def orden(d, T):\n",
    "    if len(T) == 0 or T[-1] > d:\n",
    "        return True\n",
    "    else:\n",
    "        return False\n",
    "def movimientos(discos):\n",
    "    if len(A) >= 1:\n",
    "        \n",
    "    while pools[2]\n",
    "    \n",
    "    \n",
    "def mover(d, T):\n",
    "    if orden(d, T):\n",
    "        print(\"se puede mover {0}{1}\".format(d, T))\n",
    "        T.append(d)   \n",
    "    else:\n",
    "        print(\"no se puede mover {0}{1}\".format(d, T))\n",
    "\n",
    "print(pools2)\n",
    "\n",
    "mover(4, B)\n",
    "mover(2, B)\n",
    "mover(3, B)\n",
    "mover(0, A)\n",
    "print(A)\n",
    "print(B)\n",
    "print(pools2)\n"
   ]
  },
  {
   "cell_type": "code",
   "execution_count": 66,
   "metadata": {},
   "outputs": [
    {
     "name": "stdout",
     "output_type": "stream",
     "text": [
      "mover disco de A a C\n",
      "mover disco de A a B\n",
      "mover disco de C a B\n",
      "mover disco de A a C\n",
      "mover disco de B a A\n",
      "mover disco de B a C\n",
      "mover disco de A a C\n"
     ]
    }
   ],
   "source": [
    "def moverTorre(altura,origen, destino, intermedio):\n",
    "    if altura >= 1:\n",
    "        moverTorre(altura-1,origen,intermedio,destino)\n",
    "        moverDisco(origen,destino)\n",
    "        moverTorre(altura-1,intermedio,destino,origen)\n",
    "\n",
    "def moverDisco(desde,hacia):\n",
    "    print(\"mover disco de\",desde,\"a\",hacia)\n",
    "\n",
    "moverTorre(3,\"A\",\"C\",\"B\")"
   ]
  },
  {
   "cell_type": "code",
   "execution_count": null,
   "metadata": {},
   "outputs": [],
   "source": []
  }
 ],
 "metadata": {
  "kernelspec": {
   "display_name": "Python 3",
   "language": "python",
   "name": "python3"
  },
  "language_info": {
   "codemirror_mode": {
    "name": "ipython",
    "version": 3
   },
   "file_extension": ".py",
   "mimetype": "text/x-python",
   "name": "python",
   "nbconvert_exporter": "python",
   "pygments_lexer": "ipython3",
   "version": "3.7.0"
  }
 },
 "nbformat": 4,
 "nbformat_minor": 2
}
