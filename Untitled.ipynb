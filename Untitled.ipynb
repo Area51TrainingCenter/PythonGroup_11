{
 "cells": [
  {
   "cell_type": "code",
   "execution_count": 1,
   "metadata": {},
   "outputs": [
    {
     "data": {
      "text/plain": [
       "[0, 2, 4, 6, 8, 10, 12, 14, 16, 18]"
      ]
     },
     "execution_count": 1,
     "metadata": {},
     "output_type": "execute_result"
    }
   ],
   "source": [
    "[ (i + j) for i in range(10) for j in range(10) if i ==j]"
   ]
  },
  {
   "cell_type": "code",
   "execution_count": 4,
   "metadata": {},
   "outputs": [
    {
     "name": "stdout",
     "output_type": "stream",
     "text": [
      "1233445\n"
     ]
    },
    {
     "data": {
      "text/plain": [
       "[1, 2, 3, 3, 4, 4, 5]"
      ]
     },
     "execution_count": 4,
     "metadata": {},
     "output_type": "execute_result"
    }
   ],
   "source": [
    "l = input()\n",
    "#l = l.split()\n",
    "list(map(int,l))"
   ]
  },
  {
   "cell_type": "code",
   "execution_count": 7,
   "metadata": {},
   "outputs": [
    {
     "name": "stdout",
     "output_type": "stream",
     "text": [
      "1231324 12312 345 345\n"
     ]
    },
    {
     "data": {
      "text/plain": [
       "[1231324, 12312, 345, 345]"
      ]
     },
     "execution_count": 7,
     "metadata": {},
     "output_type": "execute_result"
    }
   ],
   "source": [
    "list(map(int,input().split()))"
   ]
  },
  {
   "cell_type": "code",
   "execution_count": 8,
   "metadata": {},
   "outputs": [
    {
     "data": {
      "text/plain": [
       "9"
      ]
     },
     "execution_count": 8,
     "metadata": {},
     "output_type": "execute_result"
    }
   ],
   "source": [
    "suma = lambda x , y : x + y \n",
    "suma(4,5)"
   ]
  },
  {
   "cell_type": "code",
   "execution_count": 18,
   "metadata": {},
   "outputs": [
    {
     "name": "stdout",
     "output_type": "stream",
     "text": [
      "1 2 3 4 5 6\n",
      "[1, 2, 3, 4, 5, 6]\n",
      "[1, 4, 9, 16, 25, 36]\n",
      "[2, 6, 12, 20, 30, 42]\n"
     ]
    }
   ],
   "source": [
    "la = list(map(int , input().split()))\n",
    "print(la)\n",
    "lb = list(map(lambda x : x**2 , la))\n",
    "print(lb)\n",
    "lc = list(map(lambda x,y : x+y , la , lb))\n",
    "print(lc)\n",
    " "
   ]
  },
  {
   "cell_type": "code",
   "execution_count": 22,
   "metadata": {},
   "outputs": [
    {
     "name": "stdout",
     "output_type": "stream",
     "text": [
      "1 2 3 4 5\n"
     ]
    },
    {
     "data": {
      "text/plain": [
       "[2, 4]"
      ]
     },
     "execution_count": 22,
     "metadata": {},
     "output_type": "execute_result"
    }
   ],
   "source": [
    "l = list(map(int , input().split()))\n",
    "list(filter(lambda x : x% 2 == 0 , l))\n"
   ]
  },
  {
   "cell_type": "code",
   "execution_count": 27,
   "metadata": {},
   "outputs": [
    {
     "name": "stdout",
     "output_type": "stream",
     "text": [
      "1 2 3 4 5 6\n",
      "[[1, 2, 3, 4, 5, 6], [1, 2, 3, 4, 5, 6], [1, 2, 3, 4, 5, 6]]\n"
     ]
    },
    {
     "data": {
      "text/plain": [
       "[3, 6, 9, 12, 15, 18]"
      ]
     },
     "execution_count": 27,
     "metadata": {},
     "output_type": "execute_result"
    }
   ],
   "source": [
    "l = list(map(int,input().split()))\n",
    "C = [l] + [l] + [l]\n",
    "print(C)\n",
    "list(map(lambda l : sum(l) , zip(*C)))"
   ]
  },
  {
   "cell_type": "code",
   "execution_count": null,
   "metadata": {},
   "outputs": [],
   "source": []
  },
  {
   "cell_type": "code",
   "execution_count": 58,
   "metadata": {},
   "outputs": [
    {
     "name": "stdout",
     "output_type": "stream",
     "text": [
      "10 / 20\n",
      "1 / 2\n",
      "5 / 4\n",
      "7 / 4\n",
      "5 / 8\n"
     ]
    },
    {
     "ename": "AttributeError",
     "evalue": "'int' object has no attribute 'toFloat'",
     "output_type": "error",
     "traceback": [
      "\u001b[1;31m---------------------------------------------------------------------------\u001b[0m",
      "\u001b[1;31mAttributeError\u001b[0m                            Traceback (most recent call last)",
      "\u001b[1;32m<ipython-input-58-2178d2be3dc7>\u001b[0m in \u001b[0;36m<module>\u001b[1;34m()\u001b[0m\n\u001b[0;32m     67\u001b[0m \u001b[0ml\u001b[0m\u001b[1;33m.\u001b[0m\u001b[0msort\u001b[0m\u001b[1;33m(\u001b[0m\u001b[1;33m)\u001b[0m\u001b[1;33m\u001b[0m\u001b[0m\n\u001b[0;32m     68\u001b[0m \u001b[1;32mfor\u001b[0m \u001b[0mf\u001b[0m \u001b[1;32min\u001b[0m \u001b[0ml\u001b[0m\u001b[1;33m:\u001b[0m\u001b[1;33m\u001b[0m\u001b[0m\n\u001b[1;32m---> 69\u001b[1;33m     \u001b[0mprint\u001b[0m\u001b[1;33m(\u001b[0m\u001b[0mf\u001b[0m\u001b[1;33m.\u001b[0m\u001b[0mtoFloat\u001b[0m\u001b[1;33m(\u001b[0m\u001b[1;33m)\u001b[0m\u001b[1;33m)\u001b[0m\u001b[1;33m\u001b[0m\u001b[0m\n\u001b[0m",
      "\u001b[1;31mAttributeError\u001b[0m: 'int' object has no attribute 'toFloat'"
     ]
    }
   ],
   "source": [
    "class Fraction:\n",
    "    def __init__(self, num, den):\n",
    "        self.num = num\n",
    "        self.den = den\n",
    "    \n",
    "    def toFloat(self):\n",
    "        return self.num / self.den\n",
    "\n",
    "    def toReduceShape(self):\n",
    "        g = self.gcd(self.num, self.den)\n",
    "        return '{} / {}'.format(self.num // g, self.den // g)\n",
    "    \n",
    "    def gcd(self, a, b):\n",
    "        if b == 0:\n",
    "            return a\n",
    "        return self.gcd(b, a % b)\n",
    "    \n",
    "    def __mul__(self, that):\n",
    "        res_fraction = Fraction(self.num * that.num, self.den * that.den)\n",
    "        return res_fraction\n",
    "    \n",
    "    def product(self, that):\n",
    "        res_fraction = Fraction(self.num * that.num, self.den * that.den)\n",
    "        return res_fraction\n",
    "    \n",
    "    def __add__(self, that):\n",
    "        num = self.num * that.den + self.den * that.num\n",
    "        den = self.den * that.den\n",
    "        res_fraction = Fraction(num, den)\n",
    "        return res_fraction\n",
    "    \n",
    "    def addition(self, that):\n",
    "        num = self.num * that.den + self.den * that.num\n",
    "        den = self.den * that.den\n",
    "        res_fraction = Fraction(num, den)\n",
    "        return res_fraction\n",
    "    \n",
    "    #def __eq__(self, that):\n",
    "    #    return self.toFloat() == that.toFloat()\n",
    "    \n",
    "    def __lt__(self, that):\n",
    "        return self.toFloat() < that.toFloat()\n",
    "    \n",
    "    def __str__(self):\n",
    "        #return str(self.num) + '/' + str(self.den)\n",
    "        return '{} / {}'.format(self.num, self.den)\n",
    "\n",
    "\n",
    "fraction = Fraction(10, 20)\n",
    "fraction2 = Fraction(3, 4)\n",
    "print(fraction)\n",
    "fraction.toReduceShape()\n",
    "fraction.toFloat()\n",
    "f = fraction.product(fraction2)\n",
    "f.toReduceShape()\n",
    "f = fraction.addition(fraction2)\n",
    "f.toReduceShape()\n",
    "\n",
    "print(fraction.toReduceShape())\n",
    "print(f.toReduceShape())\n",
    "\n",
    "print((fraction + f).toReduceShape())\n",
    "print((fraction * f).toReduceShape())\n",
    "\n",
    "l = [fraction2, fraction, f, fraction2, f, fraction]\n",
    "l = [2, -5, 6]\n",
    "l.sort()\n",
    "for f in l:\n",
    "    print(f.toFloat())"
   ]
  },
  {
   "cell_type": "code",
   "execution_count": 54,
   "metadata": {},
   "outputs": [
    {
     "name": "stdout",
     "output_type": "stream",
     "text": [
      "5 / 15\n",
      "1 / 3\n",
      "17 / 15\n"
     ]
    }
   ],
   "source": [
    "class Fraction() :\n",
    "    def __init__(self,num,den):\n",
    "        self.num = num\n",
    "        self.den = den\n",
    "        \n",
    "    def toFloat(self):\n",
    "        return self.num / self.den\n",
    "\n",
    "    def gcd(self,a,b):\n",
    "        if b == 0 :\n",
    "            return a \n",
    "        return self.gcd(b,a%b)\n",
    "            \n",
    "    def toReduceShape(self):\n",
    "        g = self.gcd(self.num , self.den)\n",
    "        return '{} / {}'.format(self.num // g , self.den // g)\n",
    "    \n",
    "    def __mul__(self,that) :\n",
    "        res_fraction = Fraction(self.num * that*num , self.den * that.den)\n",
    "        return res_fraction\n",
    "    \n",
    "    def product(self, that):\n",
    "        res_fraction = Fraction(self.num * that.num, self.den * that.den)\n",
    "        return res_fraction\n",
    "        \n",
    "        \n",
    "    def __add__(self, that):\n",
    "        num = self.num * that.den + self.den * that.num\n",
    "        den = self.den * that.den\n",
    "        res_fraction = Fraction(num, den)\n",
    "        return res_fraction\n",
    "    \n",
    "    def addition(self, that):\n",
    "        num = self.num * that.den + self.den * that.num\n",
    "        den = self.den * that.den\n",
    "        res_fraction = Fraction(num, den)\n",
    "        return res_fraction\n",
    "    \n",
    "    def __str__(self) :\n",
    "        return '{} / {}'.format(self.num,self.den)\n",
    "    \n",
    "    \n",
    "fraction = Fraction(5,15)\n",
    "fraction2 = Fraction(4,5)\n",
    "print(fraction)\n",
    "fraction.toReduceShape()\n",
    "fraction.toFloat()\n",
    "f = fraction.product(fraction2)\n",
    "f.toReduceShape()\n",
    "f= fraction.addition(fraction2)\n",
    "f.toReduceShape()\n",
    "\n",
    "print(fraction.toReduceShape())\n",
    "print(f.toReduceShape())\n",
    "    "
   ]
  },
  {
   "cell_type": "code",
   "execution_count": null,
   "metadata": {},
   "outputs": [],
   "source": []
  }
 ],
 "metadata": {
  "kernelspec": {
   "display_name": "Python 3",
   "language": "python",
   "name": "python3"
  },
  "language_info": {
   "codemirror_mode": {
    "name": "ipython",
    "version": 3
   },
   "file_extension": ".py",
   "mimetype": "text/x-python",
   "name": "python",
   "nbconvert_exporter": "python",
   "pygments_lexer": "ipython3",
   "version": "3.6.6"
  }
 },
 "nbformat": 4,
 "nbformat_minor": 2
}
