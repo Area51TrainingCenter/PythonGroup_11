{
 "cells": [
  {
   "cell_type": "code",
   "execution_count": null,
   "metadata": {},
   "outputs": [],
   "source": [
    "import requests\n",
    "\n",
    "print('ingresa nombre de la organizacion :')\n",
    "\n",
    "q = ''.join(list(map(str, input().split())))\n",
    "\n",
    "url_git = 'https://api.github.com/orgs/{}'.format(q)\n",
    "\n",
    "llamar = requests.get(url_git, auth=('Chaoslecion123','b8a777ec3f494ac3547d7afa683e57191f26918f'))\n",
    "\n",
    "print(llamar)\n",
    "\n",
    "if llamar.status_code == 200:\n",
    "\n",
    "    data = llamar.json()\n",
    "\n",
    "    name = data['login']\n",
    "\n",
    "    url_repos_git = 'https://api.github.com/orgs/{}/repos'.format(q)\n",
    "\n",
    "    url_repos = requests.get(url_repos_git, auth=('Chaoslecion123', 'b8a777ec3f494ac3547d7afa683e57191f26918f')).json()\n",
    "\n",
    "    for repo in url_repos:\n",
    "\n",
    "        nombre = repo['name']\n",
    "\n",
    "        print('Nombre Repositorio :' + nombre)\n",
    "\n",
    "else:\n",
    "    print('el nombre buscado no es el correcto')"
   ]
  }
 ],
 "metadata": {
  "kernelspec": {
   "display_name": "Python 3",
   "language": "python",
   "name": "python3"
  },
  "language_info": {
   "codemirror_mode": {
    "name": "ipython",
    "version": 3
   },
   "file_extension": ".py",
   "mimetype": "text/x-python",
   "name": "python",
   "nbconvert_exporter": "python",
   "pygments_lexer": "ipython3",
   "version": "3.6.4"
  }
 },
 "nbformat": 4,
 "nbformat_minor": 2
}
